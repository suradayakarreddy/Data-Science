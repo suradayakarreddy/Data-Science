{
 "cells": [
  {
   "cell_type": "markdown",
   "id": "926e3a09-f724-4721-a59b-2aea43bcb942",
   "metadata": {},
   "source": [
    "Exploratory data Analysis (EDA1)"
   ]
  },
  {
   "cell_type": "code",
   "execution_count": 1,
   "id": "998b9a49-d399-4b15-b810-97f9b873e7df",
   "metadata": {},
   "outputs": [],
   "source": [
    "import pandas as pd\n",
    "import numpy as np\n",
    "import matplotlib.pyplot as plt\n",
    "import seaborn as sn"
   ]
  },
  {
   "cell_type": "code",
   "execution_count": 2,
   "id": "a2b4f863-70ae-42dd-a72c-9d9bea11cca3",
   "metadata": {},
   "outputs": [
    {
     "data": {
      "text/html": [
       "<div>\n",
       "<style scoped>\n",
       "    .dataframe tbody tr th:only-of-type {\n",
       "        vertical-align: middle;\n",
       "    }\n",
       "\n",
       "    .dataframe tbody tr th {\n",
       "        vertical-align: top;\n",
       "    }\n",
       "\n",
       "    .dataframe thead th {\n",
       "        text-align: right;\n",
       "    }\n",
       "</style>\n",
       "<table border=\"1\" class=\"dataframe\">\n",
       "  <thead>\n",
       "    <tr style=\"text-align: right;\">\n",
       "      <th></th>\n",
       "      <th>LB</th>\n",
       "      <th>AC</th>\n",
       "      <th>FM</th>\n",
       "      <th>UC</th>\n",
       "      <th>DL</th>\n",
       "      <th>DS</th>\n",
       "      <th>DP</th>\n",
       "      <th>ASTV</th>\n",
       "      <th>MSTV</th>\n",
       "      <th>ALTV</th>\n",
       "      <th>MLTV</th>\n",
       "      <th>Width</th>\n",
       "      <th>Tendency</th>\n",
       "      <th>NSP</th>\n",
       "    </tr>\n",
       "  </thead>\n",
       "  <tbody>\n",
       "    <tr>\n",
       "      <th>0</th>\n",
       "      <td>120.000000</td>\n",
       "      <td>0.000000</td>\n",
       "      <td>0.0</td>\n",
       "      <td>0.000000</td>\n",
       "      <td>0.000000</td>\n",
       "      <td>0.0</td>\n",
       "      <td>0.0</td>\n",
       "      <td>73.0</td>\n",
       "      <td>0.5</td>\n",
       "      <td>43.0</td>\n",
       "      <td>2.4</td>\n",
       "      <td>64.0</td>\n",
       "      <td>0.999926</td>\n",
       "      <td>2.0</td>\n",
       "    </tr>\n",
       "    <tr>\n",
       "      <th>1</th>\n",
       "      <td>132.000000</td>\n",
       "      <td>0.006380</td>\n",
       "      <td>0.0</td>\n",
       "      <td>0.006380</td>\n",
       "      <td>0.003190</td>\n",
       "      <td>0.0</td>\n",
       "      <td>0.0</td>\n",
       "      <td>17.0</td>\n",
       "      <td>2.1</td>\n",
       "      <td>0.0</td>\n",
       "      <td>10.4</td>\n",
       "      <td>130.0</td>\n",
       "      <td>0.000000</td>\n",
       "      <td>1.0</td>\n",
       "    </tr>\n",
       "    <tr>\n",
       "      <th>2</th>\n",
       "      <td>133.000000</td>\n",
       "      <td>0.003322</td>\n",
       "      <td>0.0</td>\n",
       "      <td>0.008306</td>\n",
       "      <td>0.003322</td>\n",
       "      <td>0.0</td>\n",
       "      <td>0.0</td>\n",
       "      <td>16.0</td>\n",
       "      <td>2.1</td>\n",
       "      <td>0.0</td>\n",
       "      <td>13.4</td>\n",
       "      <td>130.0</td>\n",
       "      <td>0.000000</td>\n",
       "      <td>1.0</td>\n",
       "    </tr>\n",
       "    <tr>\n",
       "      <th>3</th>\n",
       "      <td>134.000000</td>\n",
       "      <td>0.002561</td>\n",
       "      <td>0.0</td>\n",
       "      <td>0.007742</td>\n",
       "      <td>0.002561</td>\n",
       "      <td>0.0</td>\n",
       "      <td>0.0</td>\n",
       "      <td>16.0</td>\n",
       "      <td>2.4</td>\n",
       "      <td>0.0</td>\n",
       "      <td>23.0</td>\n",
       "      <td>117.0</td>\n",
       "      <td>1.000000</td>\n",
       "      <td>1.0</td>\n",
       "    </tr>\n",
       "    <tr>\n",
       "      <th>4</th>\n",
       "      <td>131.948232</td>\n",
       "      <td>0.006515</td>\n",
       "      <td>0.0</td>\n",
       "      <td>0.008143</td>\n",
       "      <td>0.000000</td>\n",
       "      <td>0.0</td>\n",
       "      <td>0.0</td>\n",
       "      <td>16.0</td>\n",
       "      <td>2.4</td>\n",
       "      <td>0.0</td>\n",
       "      <td>19.9</td>\n",
       "      <td>117.0</td>\n",
       "      <td>1.000000</td>\n",
       "      <td>1.0</td>\n",
       "    </tr>\n",
       "  </tbody>\n",
       "</table>\n",
       "</div>"
      ],
      "text/plain": [
       "           LB        AC   FM        UC        DL   DS   DP  ASTV  MSTV  ALTV  \\\n",
       "0  120.000000  0.000000  0.0  0.000000  0.000000  0.0  0.0  73.0   0.5  43.0   \n",
       "1  132.000000  0.006380  0.0  0.006380  0.003190  0.0  0.0  17.0   2.1   0.0   \n",
       "2  133.000000  0.003322  0.0  0.008306  0.003322  0.0  0.0  16.0   2.1   0.0   \n",
       "3  134.000000  0.002561  0.0  0.007742  0.002561  0.0  0.0  16.0   2.4   0.0   \n",
       "4  131.948232  0.006515  0.0  0.008143  0.000000  0.0  0.0  16.0   2.4   0.0   \n",
       "\n",
       "   MLTV  Width  Tendency  NSP  \n",
       "0   2.4   64.0  0.999926  2.0  \n",
       "1  10.4  130.0  0.000000  1.0  \n",
       "2  13.4  130.0  0.000000  1.0  \n",
       "3  23.0  117.0  1.000000  1.0  \n",
       "4  19.9  117.0  1.000000  1.0  "
      ]
     },
     "execution_count": 2,
     "metadata": {},
     "output_type": "execute_result"
    }
   ],
   "source": [
    "data=pd.read_csv(\"C:/Users/Dayakar Reddy Sura/Downloads/Cardiotocographic.csv\")\n",
    "data.head()"
   ]
  },
  {
   "cell_type": "markdown",
   "id": "c9e7d23f-74f5-4fb8-83bd-0079708a3646",
   "metadata": {},
   "source": [
    "Dataset:\r",
    ".                                                                                       in the FHR.\r\n"
   ]
  },
  {
   "cell_type": "markdown",
   "id": "ed5f129e-1aa3-4ef1-bd75-055893ed3267",
   "metadata": {},
   "source": [
    "1.\tLB - Likely stands for \"Baseline Fetal Heart Rate (FHR)\" which represents the average fetal heart rate over a period."
   ]
  },
  {
   "cell_type": "markdown",
   "id": "b200f74d-379a-4d58-b694-5fb5fe2c87c0",
   "metadata": {},
   "source": [
    "2.\tAC - Could represent \"Accelerations\" in the FHR. Accelerations are usually a sign of fetal well-being.                                             \n",
    "\n",
    "3.\tFM - May indicate \"Fetal Movements\" detected by the monitor.                                                                                                  \n",
    "4.\tUC - Likely denotes \"Uterine Contractions\", which can impact the FHR pattern.                                                                                \n",
    "5.\tDL - Could stand for \"Decelerations Late\" with respect to uterine contractions, which can be a sign of fetal distress.                                             \n",
    "6.\tDS - May represent \"Decelerations Short\" or decelerations of brief duration.                                                                                    \n",
    "7.\tDP - Could indicate \"Decelerations Prolonged\", or long-lasting decelerations.                                                                                     \n",
    "8.\tASTV - Might refer to \"Percentage of Time with Abnormal Short Term Variability\" in the FHR.                                                                    \n",
    "9.\tMSTV - Likely stands for \"Mean Value of Short Term Variability\" in the FHR.                                                                                   \n",
    "10.\tALTV - Could represent \"Percentage of Time with Abnormal Long Term Variability\" in the FHR.                                                                       \n",
    "11.\tMLTV - Might indicate \"Mean Value of Long Term Variability\" in the FHR.    "
   ]
  },
  {
   "cell_type": "code",
   "execution_count": 3,
   "id": "0e3ef13d-ad21-4742-b215-81e98a9be565",
   "metadata": {},
   "outputs": [
    {
     "data": {
      "text/html": [
       "<div>\n",
       "<style scoped>\n",
       "    .dataframe tbody tr th:only-of-type {\n",
       "        vertical-align: middle;\n",
       "    }\n",
       "\n",
       "    .dataframe tbody tr th {\n",
       "        vertical-align: top;\n",
       "    }\n",
       "\n",
       "    .dataframe thead th {\n",
       "        text-align: right;\n",
       "    }\n",
       "</style>\n",
       "<table border=\"1\" class=\"dataframe\">\n",
       "  <thead>\n",
       "    <tr style=\"text-align: right;\">\n",
       "      <th></th>\n",
       "      <th>LB</th>\n",
       "      <th>AC</th>\n",
       "      <th>FM</th>\n",
       "      <th>UC</th>\n",
       "      <th>DL</th>\n",
       "      <th>DS</th>\n",
       "      <th>DP</th>\n",
       "      <th>ASTV</th>\n",
       "      <th>MSTV</th>\n",
       "      <th>ALTV</th>\n",
       "      <th>MLTV</th>\n",
       "      <th>Width</th>\n",
       "      <th>Tendency</th>\n",
       "      <th>NSP</th>\n",
       "    </tr>\n",
       "  </thead>\n",
       "  <tbody>\n",
       "    <tr>\n",
       "      <th>0</th>\n",
       "      <td>False</td>\n",
       "      <td>False</td>\n",
       "      <td>False</td>\n",
       "      <td>False</td>\n",
       "      <td>False</td>\n",
       "      <td>False</td>\n",
       "      <td>False</td>\n",
       "      <td>False</td>\n",
       "      <td>False</td>\n",
       "      <td>False</td>\n",
       "      <td>False</td>\n",
       "      <td>False</td>\n",
       "      <td>False</td>\n",
       "      <td>False</td>\n",
       "    </tr>\n",
       "    <tr>\n",
       "      <th>1</th>\n",
       "      <td>False</td>\n",
       "      <td>False</td>\n",
       "      <td>False</td>\n",
       "      <td>False</td>\n",
       "      <td>False</td>\n",
       "      <td>False</td>\n",
       "      <td>False</td>\n",
       "      <td>False</td>\n",
       "      <td>False</td>\n",
       "      <td>False</td>\n",
       "      <td>False</td>\n",
       "      <td>False</td>\n",
       "      <td>False</td>\n",
       "      <td>False</td>\n",
       "    </tr>\n",
       "    <tr>\n",
       "      <th>2</th>\n",
       "      <td>False</td>\n",
       "      <td>False</td>\n",
       "      <td>False</td>\n",
       "      <td>False</td>\n",
       "      <td>False</td>\n",
       "      <td>False</td>\n",
       "      <td>False</td>\n",
       "      <td>False</td>\n",
       "      <td>False</td>\n",
       "      <td>False</td>\n",
       "      <td>False</td>\n",
       "      <td>False</td>\n",
       "      <td>False</td>\n",
       "      <td>False</td>\n",
       "    </tr>\n",
       "    <tr>\n",
       "      <th>3</th>\n",
       "      <td>False</td>\n",
       "      <td>False</td>\n",
       "      <td>False</td>\n",
       "      <td>False</td>\n",
       "      <td>False</td>\n",
       "      <td>False</td>\n",
       "      <td>False</td>\n",
       "      <td>False</td>\n",
       "      <td>False</td>\n",
       "      <td>False</td>\n",
       "      <td>False</td>\n",
       "      <td>False</td>\n",
       "      <td>False</td>\n",
       "      <td>False</td>\n",
       "    </tr>\n",
       "    <tr>\n",
       "      <th>4</th>\n",
       "      <td>False</td>\n",
       "      <td>False</td>\n",
       "      <td>False</td>\n",
       "      <td>False</td>\n",
       "      <td>False</td>\n",
       "      <td>False</td>\n",
       "      <td>False</td>\n",
       "      <td>False</td>\n",
       "      <td>False</td>\n",
       "      <td>False</td>\n",
       "      <td>False</td>\n",
       "      <td>False</td>\n",
       "      <td>False</td>\n",
       "      <td>False</td>\n",
       "    </tr>\n",
       "    <tr>\n",
       "      <th>...</th>\n",
       "      <td>...</td>\n",
       "      <td>...</td>\n",
       "      <td>...</td>\n",
       "      <td>...</td>\n",
       "      <td>...</td>\n",
       "      <td>...</td>\n",
       "      <td>...</td>\n",
       "      <td>...</td>\n",
       "      <td>...</td>\n",
       "      <td>...</td>\n",
       "      <td>...</td>\n",
       "      <td>...</td>\n",
       "      <td>...</td>\n",
       "      <td>...</td>\n",
       "    </tr>\n",
       "    <tr>\n",
       "      <th>2121</th>\n",
       "      <td>False</td>\n",
       "      <td>False</td>\n",
       "      <td>False</td>\n",
       "      <td>False</td>\n",
       "      <td>False</td>\n",
       "      <td>False</td>\n",
       "      <td>False</td>\n",
       "      <td>False</td>\n",
       "      <td>False</td>\n",
       "      <td>False</td>\n",
       "      <td>False</td>\n",
       "      <td>False</td>\n",
       "      <td>False</td>\n",
       "      <td>False</td>\n",
       "    </tr>\n",
       "    <tr>\n",
       "      <th>2122</th>\n",
       "      <td>False</td>\n",
       "      <td>False</td>\n",
       "      <td>False</td>\n",
       "      <td>False</td>\n",
       "      <td>False</td>\n",
       "      <td>False</td>\n",
       "      <td>False</td>\n",
       "      <td>False</td>\n",
       "      <td>False</td>\n",
       "      <td>False</td>\n",
       "      <td>False</td>\n",
       "      <td>False</td>\n",
       "      <td>False</td>\n",
       "      <td>False</td>\n",
       "    </tr>\n",
       "    <tr>\n",
       "      <th>2123</th>\n",
       "      <td>False</td>\n",
       "      <td>False</td>\n",
       "      <td>False</td>\n",
       "      <td>False</td>\n",
       "      <td>False</td>\n",
       "      <td>False</td>\n",
       "      <td>False</td>\n",
       "      <td>False</td>\n",
       "      <td>False</td>\n",
       "      <td>False</td>\n",
       "      <td>False</td>\n",
       "      <td>False</td>\n",
       "      <td>False</td>\n",
       "      <td>False</td>\n",
       "    </tr>\n",
       "    <tr>\n",
       "      <th>2124</th>\n",
       "      <td>False</td>\n",
       "      <td>False</td>\n",
       "      <td>False</td>\n",
       "      <td>False</td>\n",
       "      <td>False</td>\n",
       "      <td>False</td>\n",
       "      <td>False</td>\n",
       "      <td>False</td>\n",
       "      <td>False</td>\n",
       "      <td>False</td>\n",
       "      <td>False</td>\n",
       "      <td>False</td>\n",
       "      <td>False</td>\n",
       "      <td>False</td>\n",
       "    </tr>\n",
       "    <tr>\n",
       "      <th>2125</th>\n",
       "      <td>False</td>\n",
       "      <td>False</td>\n",
       "      <td>False</td>\n",
       "      <td>False</td>\n",
       "      <td>False</td>\n",
       "      <td>False</td>\n",
       "      <td>False</td>\n",
       "      <td>False</td>\n",
       "      <td>False</td>\n",
       "      <td>False</td>\n",
       "      <td>False</td>\n",
       "      <td>False</td>\n",
       "      <td>False</td>\n",
       "      <td>False</td>\n",
       "    </tr>\n",
       "  </tbody>\n",
       "</table>\n",
       "<p>2126 rows × 14 columns</p>\n",
       "</div>"
      ],
      "text/plain": [
       "         LB     AC     FM     UC     DL     DS     DP   ASTV   MSTV   ALTV  \\\n",
       "0     False  False  False  False  False  False  False  False  False  False   \n",
       "1     False  False  False  False  False  False  False  False  False  False   \n",
       "2     False  False  False  False  False  False  False  False  False  False   \n",
       "3     False  False  False  False  False  False  False  False  False  False   \n",
       "4     False  False  False  False  False  False  False  False  False  False   \n",
       "...     ...    ...    ...    ...    ...    ...    ...    ...    ...    ...   \n",
       "2121  False  False  False  False  False  False  False  False  False  False   \n",
       "2122  False  False  False  False  False  False  False  False  False  False   \n",
       "2123  False  False  False  False  False  False  False  False  False  False   \n",
       "2124  False  False  False  False  False  False  False  False  False  False   \n",
       "2125  False  False  False  False  False  False  False  False  False  False   \n",
       "\n",
       "       MLTV  Width  Tendency    NSP  \n",
       "0     False  False     False  False  \n",
       "1     False  False     False  False  \n",
       "2     False  False     False  False  \n",
       "3     False  False     False  False  \n",
       "4     False  False     False  False  \n",
       "...     ...    ...       ...    ...  \n",
       "2121  False  False     False  False  \n",
       "2122  False  False     False  False  \n",
       "2123  False  False     False  False  \n",
       "2124  False  False     False  False  \n",
       "2125  False  False     False  False  \n",
       "\n",
       "[2126 rows x 14 columns]"
      ]
     },
     "execution_count": 3,
     "metadata": {},
     "output_type": "execute_result"
    }
   ],
   "source": [
    "data.isnull()"
   ]
  },
  {
   "cell_type": "code",
   "execution_count": 4,
   "id": "cde9ea98-8d74-49e8-b0b3-a6b9b6e63f7a",
   "metadata": {},
   "outputs": [
    {
     "data": {
      "text/plain": [
       "LB          21\n",
       "AC          20\n",
       "FM           0\n",
       "UC           0\n",
       "DL           0\n",
       "DS          21\n",
       "DP          21\n",
       "ASTV         0\n",
       "MSTV         0\n",
       "ALTV         0\n",
       "MLTV        21\n",
       "Width       21\n",
       "Tendency    21\n",
       "NSP         21\n",
       "dtype: int64"
      ]
     },
     "execution_count": 4,
     "metadata": {},
     "output_type": "execute_result"
    }
   ],
   "source": [
    "data.isnull().sum()"
   ]
  },
  {
   "cell_type": "code",
   "execution_count": 5,
   "id": "dd19b117-fce8-4eb2-8773-43d0265d4f49",
   "metadata": {},
   "outputs": [
    {
     "data": {
      "text/plain": [
       "167"
      ]
     },
     "execution_count": 5,
     "metadata": {},
     "output_type": "execute_result"
    }
   ],
   "source": [
    "data.isnull().sum().sum()"
   ]
  },
  {
   "cell_type": "code",
   "execution_count": 6,
   "id": "6f341aa1-d6c9-4740-8ea2-3eb8ca2db4d5",
   "metadata": {},
   "outputs": [
    {
     "data": {
      "text/plain": [
       "(2126, 14)"
      ]
     },
     "execution_count": 6,
     "metadata": {},
     "output_type": "execute_result"
    }
   ],
   "source": [
    "data.shape"
   ]
  },
  {
   "cell_type": "code",
   "execution_count": 7,
   "id": "0e697da0-1b00-4b7e-8950-b93982981f75",
   "metadata": {},
   "outputs": [
    {
     "data": {
      "text/html": [
       "<div>\n",
       "<style scoped>\n",
       "    .dataframe tbody tr th:only-of-type {\n",
       "        vertical-align: middle;\n",
       "    }\n",
       "\n",
       "    .dataframe tbody tr th {\n",
       "        vertical-align: top;\n",
       "    }\n",
       "\n",
       "    .dataframe thead th {\n",
       "        text-align: right;\n",
       "    }\n",
       "</style>\n",
       "<table border=\"1\" class=\"dataframe\">\n",
       "  <thead>\n",
       "    <tr style=\"text-align: right;\">\n",
       "      <th></th>\n",
       "      <th>LB</th>\n",
       "      <th>AC</th>\n",
       "      <th>FM</th>\n",
       "      <th>UC</th>\n",
       "      <th>DL</th>\n",
       "      <th>DS</th>\n",
       "      <th>DP</th>\n",
       "      <th>ASTV</th>\n",
       "      <th>MSTV</th>\n",
       "      <th>ALTV</th>\n",
       "      <th>MLTV</th>\n",
       "      <th>Width</th>\n",
       "      <th>Tendency</th>\n",
       "      <th>NSP</th>\n",
       "    </tr>\n",
       "  </thead>\n",
       "  <tbody>\n",
       "    <tr>\n",
       "      <th>0</th>\n",
       "      <td>120.000000</td>\n",
       "      <td>0.000000</td>\n",
       "      <td>0.000000</td>\n",
       "      <td>0.000000</td>\n",
       "      <td>0.000000</td>\n",
       "      <td>0.0</td>\n",
       "      <td>0.0</td>\n",
       "      <td>73.0</td>\n",
       "      <td>0.5</td>\n",
       "      <td>43.000000</td>\n",
       "      <td>2.4</td>\n",
       "      <td>64.0</td>\n",
       "      <td>0.999926</td>\n",
       "      <td>2.000000</td>\n",
       "    </tr>\n",
       "    <tr>\n",
       "      <th>1</th>\n",
       "      <td>132.000000</td>\n",
       "      <td>0.006380</td>\n",
       "      <td>0.000000</td>\n",
       "      <td>0.006380</td>\n",
       "      <td>0.003190</td>\n",
       "      <td>0.0</td>\n",
       "      <td>0.0</td>\n",
       "      <td>17.0</td>\n",
       "      <td>2.1</td>\n",
       "      <td>0.000000</td>\n",
       "      <td>10.4</td>\n",
       "      <td>130.0</td>\n",
       "      <td>0.000000</td>\n",
       "      <td>1.000000</td>\n",
       "    </tr>\n",
       "    <tr>\n",
       "      <th>2</th>\n",
       "      <td>133.000000</td>\n",
       "      <td>0.003322</td>\n",
       "      <td>0.000000</td>\n",
       "      <td>0.008306</td>\n",
       "      <td>0.003322</td>\n",
       "      <td>0.0</td>\n",
       "      <td>0.0</td>\n",
       "      <td>16.0</td>\n",
       "      <td>2.1</td>\n",
       "      <td>0.000000</td>\n",
       "      <td>13.4</td>\n",
       "      <td>130.0</td>\n",
       "      <td>0.000000</td>\n",
       "      <td>1.000000</td>\n",
       "    </tr>\n",
       "    <tr>\n",
       "      <th>3</th>\n",
       "      <td>134.000000</td>\n",
       "      <td>0.002561</td>\n",
       "      <td>0.000000</td>\n",
       "      <td>0.007742</td>\n",
       "      <td>0.002561</td>\n",
       "      <td>0.0</td>\n",
       "      <td>0.0</td>\n",
       "      <td>16.0</td>\n",
       "      <td>2.4</td>\n",
       "      <td>0.000000</td>\n",
       "      <td>23.0</td>\n",
       "      <td>117.0</td>\n",
       "      <td>1.000000</td>\n",
       "      <td>1.000000</td>\n",
       "    </tr>\n",
       "    <tr>\n",
       "      <th>4</th>\n",
       "      <td>131.948232</td>\n",
       "      <td>0.006515</td>\n",
       "      <td>0.000000</td>\n",
       "      <td>0.008143</td>\n",
       "      <td>0.000000</td>\n",
       "      <td>0.0</td>\n",
       "      <td>0.0</td>\n",
       "      <td>16.0</td>\n",
       "      <td>2.4</td>\n",
       "      <td>0.000000</td>\n",
       "      <td>19.9</td>\n",
       "      <td>117.0</td>\n",
       "      <td>1.000000</td>\n",
       "      <td>1.000000</td>\n",
       "    </tr>\n",
       "    <tr>\n",
       "      <th>...</th>\n",
       "      <td>...</td>\n",
       "      <td>...</td>\n",
       "      <td>...</td>\n",
       "      <td>...</td>\n",
       "      <td>...</td>\n",
       "      <td>...</td>\n",
       "      <td>...</td>\n",
       "      <td>...</td>\n",
       "      <td>...</td>\n",
       "      <td>...</td>\n",
       "      <td>...</td>\n",
       "      <td>...</td>\n",
       "      <td>...</td>\n",
       "      <td>...</td>\n",
       "    </tr>\n",
       "    <tr>\n",
       "      <th>2121</th>\n",
       "      <td>140.000000</td>\n",
       "      <td>0.000000</td>\n",
       "      <td>0.961268</td>\n",
       "      <td>0.007426</td>\n",
       "      <td>0.000000</td>\n",
       "      <td>0.0</td>\n",
       "      <td>0.0</td>\n",
       "      <td>79.0</td>\n",
       "      <td>0.2</td>\n",
       "      <td>25.000000</td>\n",
       "      <td>7.2</td>\n",
       "      <td>40.0</td>\n",
       "      <td>0.000000</td>\n",
       "      <td>2.000000</td>\n",
       "    </tr>\n",
       "    <tr>\n",
       "      <th>2122</th>\n",
       "      <td>140.000000</td>\n",
       "      <td>0.000775</td>\n",
       "      <td>0.000000</td>\n",
       "      <td>0.006979</td>\n",
       "      <td>0.000000</td>\n",
       "      <td>0.0</td>\n",
       "      <td>0.0</td>\n",
       "      <td>78.0</td>\n",
       "      <td>0.4</td>\n",
       "      <td>22.000000</td>\n",
       "      <td>7.1</td>\n",
       "      <td>66.0</td>\n",
       "      <td>1.000000</td>\n",
       "      <td>2.000000</td>\n",
       "    </tr>\n",
       "    <tr>\n",
       "      <th>2123</th>\n",
       "      <td>140.000000</td>\n",
       "      <td>0.000980</td>\n",
       "      <td>0.000000</td>\n",
       "      <td>0.006863</td>\n",
       "      <td>0.000000</td>\n",
       "      <td>0.0</td>\n",
       "      <td>0.0</td>\n",
       "      <td>79.0</td>\n",
       "      <td>0.4</td>\n",
       "      <td>20.000000</td>\n",
       "      <td>6.1</td>\n",
       "      <td>67.0</td>\n",
       "      <td>1.000000</td>\n",
       "      <td>1.990464</td>\n",
       "    </tr>\n",
       "    <tr>\n",
       "      <th>2124</th>\n",
       "      <td>140.000000</td>\n",
       "      <td>0.000679</td>\n",
       "      <td>0.000000</td>\n",
       "      <td>0.006110</td>\n",
       "      <td>0.000000</td>\n",
       "      <td>0.0</td>\n",
       "      <td>0.0</td>\n",
       "      <td>78.0</td>\n",
       "      <td>0.4</td>\n",
       "      <td>27.000000</td>\n",
       "      <td>7.0</td>\n",
       "      <td>66.0</td>\n",
       "      <td>1.000000</td>\n",
       "      <td>2.000000</td>\n",
       "    </tr>\n",
       "    <tr>\n",
       "      <th>2125</th>\n",
       "      <td>142.000000</td>\n",
       "      <td>0.001616</td>\n",
       "      <td>-0.000188</td>\n",
       "      <td>0.008078</td>\n",
       "      <td>0.000000</td>\n",
       "      <td>0.0</td>\n",
       "      <td>0.0</td>\n",
       "      <td>74.0</td>\n",
       "      <td>0.4</td>\n",
       "      <td>35.857183</td>\n",
       "      <td>5.0</td>\n",
       "      <td>42.0</td>\n",
       "      <td>0.000000</td>\n",
       "      <td>1.000000</td>\n",
       "    </tr>\n",
       "  </tbody>\n",
       "</table>\n",
       "<p>2126 rows × 14 columns</p>\n",
       "</div>"
      ],
      "text/plain": [
       "              LB        AC        FM        UC        DL   DS   DP  ASTV  \\\n",
       "0     120.000000  0.000000  0.000000  0.000000  0.000000  0.0  0.0  73.0   \n",
       "1     132.000000  0.006380  0.000000  0.006380  0.003190  0.0  0.0  17.0   \n",
       "2     133.000000  0.003322  0.000000  0.008306  0.003322  0.0  0.0  16.0   \n",
       "3     134.000000  0.002561  0.000000  0.007742  0.002561  0.0  0.0  16.0   \n",
       "4     131.948232  0.006515  0.000000  0.008143  0.000000  0.0  0.0  16.0   \n",
       "...          ...       ...       ...       ...       ...  ...  ...   ...   \n",
       "2121  140.000000  0.000000  0.961268  0.007426  0.000000  0.0  0.0  79.0   \n",
       "2122  140.000000  0.000775  0.000000  0.006979  0.000000  0.0  0.0  78.0   \n",
       "2123  140.000000  0.000980  0.000000  0.006863  0.000000  0.0  0.0  79.0   \n",
       "2124  140.000000  0.000679  0.000000  0.006110  0.000000  0.0  0.0  78.0   \n",
       "2125  142.000000  0.001616 -0.000188  0.008078  0.000000  0.0  0.0  74.0   \n",
       "\n",
       "      MSTV       ALTV  MLTV  Width  Tendency       NSP  \n",
       "0      0.5  43.000000   2.4   64.0  0.999926  2.000000  \n",
       "1      2.1   0.000000  10.4  130.0  0.000000  1.000000  \n",
       "2      2.1   0.000000  13.4  130.0  0.000000  1.000000  \n",
       "3      2.4   0.000000  23.0  117.0  1.000000  1.000000  \n",
       "4      2.4   0.000000  19.9  117.0  1.000000  1.000000  \n",
       "...    ...        ...   ...    ...       ...       ...  \n",
       "2121   0.2  25.000000   7.2   40.0  0.000000  2.000000  \n",
       "2122   0.4  22.000000   7.1   66.0  1.000000  2.000000  \n",
       "2123   0.4  20.000000   6.1   67.0  1.000000  1.990464  \n",
       "2124   0.4  27.000000   7.0   66.0  1.000000  2.000000  \n",
       "2125   0.4  35.857183   5.0   42.0  0.000000  1.000000  \n",
       "\n",
       "[2126 rows x 14 columns]"
      ]
     },
     "execution_count": 7,
     "metadata": {},
     "output_type": "execute_result"
    }
   ],
   "source": [
    "data"
   ]
  },
  {
   "cell_type": "code",
   "execution_count": 8,
   "id": "c805ee8f-db99-4552-bab6-d5d80760952d",
   "metadata": {},
   "outputs": [
    {
     "data": {
      "text/html": [
       "<div>\n",
       "<style scoped>\n",
       "    .dataframe tbody tr th:only-of-type {\n",
       "        vertical-align: middle;\n",
       "    }\n",
       "\n",
       "    .dataframe tbody tr th {\n",
       "        vertical-align: top;\n",
       "    }\n",
       "\n",
       "    .dataframe thead th {\n",
       "        text-align: right;\n",
       "    }\n",
       "</style>\n",
       "<table border=\"1\" class=\"dataframe\">\n",
       "  <thead>\n",
       "    <tr style=\"text-align: right;\">\n",
       "      <th></th>\n",
       "      <th>LB</th>\n",
       "      <th>AC</th>\n",
       "      <th>FM</th>\n",
       "      <th>UC</th>\n",
       "      <th>DL</th>\n",
       "      <th>DS</th>\n",
       "      <th>DP</th>\n",
       "      <th>ASTV</th>\n",
       "      <th>MSTV</th>\n",
       "      <th>ALTV</th>\n",
       "      <th>MLTV</th>\n",
       "      <th>Width</th>\n",
       "      <th>Tendency</th>\n",
       "      <th>NSP</th>\n",
       "    </tr>\n",
       "  </thead>\n",
       "  <tbody>\n",
       "    <tr>\n",
       "      <th>count</th>\n",
       "      <td>2105.000000</td>\n",
       "      <td>2106.000000</td>\n",
       "      <td>2126.000000</td>\n",
       "      <td>2126.000000</td>\n",
       "      <td>2126.000000</td>\n",
       "      <td>2105.000000</td>\n",
       "      <td>2105.000000</td>\n",
       "      <td>2126.000000</td>\n",
       "      <td>2126.000000</td>\n",
       "      <td>2126.000000</td>\n",
       "      <td>2105.000000</td>\n",
       "      <td>2105.000000</td>\n",
       "      <td>2105.000000</td>\n",
       "      <td>2105.000000</td>\n",
       "    </tr>\n",
       "    <tr>\n",
       "      <th>mean</th>\n",
       "      <td>133.343598</td>\n",
       "      <td>0.003219</td>\n",
       "      <td>0.009894</td>\n",
       "      <td>0.004391</td>\n",
       "      <td>0.001895</td>\n",
       "      <td>0.000003</td>\n",
       "      <td>0.000175</td>\n",
       "      <td>46.995984</td>\n",
       "      <td>1.364378</td>\n",
       "      <td>10.285964</td>\n",
       "      <td>8.284887</td>\n",
       "      <td>70.429260</td>\n",
       "      <td>0.316371</td>\n",
       "      <td>1.304507</td>\n",
       "    </tr>\n",
       "    <tr>\n",
       "      <th>std</th>\n",
       "      <td>11.270154</td>\n",
       "      <td>0.004391</td>\n",
       "      <td>0.067540</td>\n",
       "      <td>0.003340</td>\n",
       "      <td>0.003343</td>\n",
       "      <td>0.000142</td>\n",
       "      <td>0.000840</td>\n",
       "      <td>18.813973</td>\n",
       "      <td>1.173632</td>\n",
       "      <td>21.205041</td>\n",
       "      <td>7.772858</td>\n",
       "      <td>42.931822</td>\n",
       "      <td>0.645622</td>\n",
       "      <td>0.644619</td>\n",
       "    </tr>\n",
       "    <tr>\n",
       "      <th>min</th>\n",
       "      <td>51.842487</td>\n",
       "      <td>-0.019284</td>\n",
       "      <td>-0.480634</td>\n",
       "      <td>-0.014925</td>\n",
       "      <td>-0.015393</td>\n",
       "      <td>-0.001353</td>\n",
       "      <td>-0.005348</td>\n",
       "      <td>-63.000000</td>\n",
       "      <td>-6.600000</td>\n",
       "      <td>-91.000000</td>\n",
       "      <td>-50.700000</td>\n",
       "      <td>-174.000000</td>\n",
       "      <td>-3.000000</td>\n",
       "      <td>-1.025988</td>\n",
       "    </tr>\n",
       "    <tr>\n",
       "      <th>25%</th>\n",
       "      <td>126.000000</td>\n",
       "      <td>0.000000</td>\n",
       "      <td>0.000000</td>\n",
       "      <td>0.001851</td>\n",
       "      <td>0.000000</td>\n",
       "      <td>0.000000</td>\n",
       "      <td>0.000000</td>\n",
       "      <td>32.000000</td>\n",
       "      <td>0.700000</td>\n",
       "      <td>0.000000</td>\n",
       "      <td>4.600000</td>\n",
       "      <td>37.000000</td>\n",
       "      <td>0.000000</td>\n",
       "      <td>1.000000</td>\n",
       "    </tr>\n",
       "    <tr>\n",
       "      <th>50%</th>\n",
       "      <td>133.000000</td>\n",
       "      <td>0.001634</td>\n",
       "      <td>0.000000</td>\n",
       "      <td>0.004484</td>\n",
       "      <td>0.000000</td>\n",
       "      <td>0.000000</td>\n",
       "      <td>0.000000</td>\n",
       "      <td>49.000000</td>\n",
       "      <td>1.200000</td>\n",
       "      <td>0.000000</td>\n",
       "      <td>7.400000</td>\n",
       "      <td>67.000000</td>\n",
       "      <td>0.000000</td>\n",
       "      <td>1.000000</td>\n",
       "    </tr>\n",
       "    <tr>\n",
       "      <th>75%</th>\n",
       "      <td>140.000000</td>\n",
       "      <td>0.005650</td>\n",
       "      <td>0.002567</td>\n",
       "      <td>0.006536</td>\n",
       "      <td>0.003289</td>\n",
       "      <td>0.000000</td>\n",
       "      <td>0.000000</td>\n",
       "      <td>61.000000</td>\n",
       "      <td>1.700000</td>\n",
       "      <td>11.000000</td>\n",
       "      <td>10.900000</td>\n",
       "      <td>100.000000</td>\n",
       "      <td>1.000000</td>\n",
       "      <td>1.000000</td>\n",
       "    </tr>\n",
       "    <tr>\n",
       "      <th>max</th>\n",
       "      <td>214.000000</td>\n",
       "      <td>0.038567</td>\n",
       "      <td>0.961268</td>\n",
       "      <td>0.030002</td>\n",
       "      <td>0.030769</td>\n",
       "      <td>0.002706</td>\n",
       "      <td>0.010695</td>\n",
       "      <td>162.000000</td>\n",
       "      <td>13.800000</td>\n",
       "      <td>182.000000</td>\n",
       "      <td>101.400000</td>\n",
       "      <td>357.000000</td>\n",
       "      <td>3.000000</td>\n",
       "      <td>5.000000</td>\n",
       "    </tr>\n",
       "  </tbody>\n",
       "</table>\n",
       "</div>"
      ],
      "text/plain": [
       "                LB           AC           FM           UC           DL  \\\n",
       "count  2105.000000  2106.000000  2126.000000  2126.000000  2126.000000   \n",
       "mean    133.343598     0.003219     0.009894     0.004391     0.001895   \n",
       "std      11.270154     0.004391     0.067540     0.003340     0.003343   \n",
       "min      51.842487    -0.019284    -0.480634    -0.014925    -0.015393   \n",
       "25%     126.000000     0.000000     0.000000     0.001851     0.000000   \n",
       "50%     133.000000     0.001634     0.000000     0.004484     0.000000   \n",
       "75%     140.000000     0.005650     0.002567     0.006536     0.003289   \n",
       "max     214.000000     0.038567     0.961268     0.030002     0.030769   \n",
       "\n",
       "                DS           DP         ASTV         MSTV         ALTV  \\\n",
       "count  2105.000000  2105.000000  2126.000000  2126.000000  2126.000000   \n",
       "mean      0.000003     0.000175    46.995984     1.364378    10.285964   \n",
       "std       0.000142     0.000840    18.813973     1.173632    21.205041   \n",
       "min      -0.001353    -0.005348   -63.000000    -6.600000   -91.000000   \n",
       "25%       0.000000     0.000000    32.000000     0.700000     0.000000   \n",
       "50%       0.000000     0.000000    49.000000     1.200000     0.000000   \n",
       "75%       0.000000     0.000000    61.000000     1.700000    11.000000   \n",
       "max       0.002706     0.010695   162.000000    13.800000   182.000000   \n",
       "\n",
       "              MLTV        Width     Tendency          NSP  \n",
       "count  2105.000000  2105.000000  2105.000000  2105.000000  \n",
       "mean      8.284887    70.429260     0.316371     1.304507  \n",
       "std       7.772858    42.931822     0.645622     0.644619  \n",
       "min     -50.700000  -174.000000    -3.000000    -1.025988  \n",
       "25%       4.600000    37.000000     0.000000     1.000000  \n",
       "50%       7.400000    67.000000     0.000000     1.000000  \n",
       "75%      10.900000   100.000000     1.000000     1.000000  \n",
       "max     101.400000   357.000000     3.000000     5.000000  "
      ]
     },
     "execution_count": 8,
     "metadata": {},
     "output_type": "execute_result"
    }
   ],
   "source": [
    "data.describe()"
   ]
  },
  {
   "cell_type": "code",
   "execution_count": 101,
   "id": "e8a585c5-0d0f-4a02-89e4-0f01e020f4fe",
   "metadata": {},
   "outputs": [],
   "source": [
    "data1=data.copy()"
   ]
  },
  {
   "cell_type": "code",
   "execution_count": 102,
   "id": "7119fd9e-dbea-4c47-86d8-43820b89116f",
   "metadata": {},
   "outputs": [],
   "source": [
    "data_2=data1.dropna()"
   ]
  },
  {
   "cell_type": "code",
   "execution_count": 104,
   "id": "ae81ce1c-fd2d-4a08-ac52-c10c3b2ce72d",
   "metadata": {},
   "outputs": [
    {
     "data": {
      "text/plain": [
       "LB          0\n",
       "AC          0\n",
       "FM          0\n",
       "UC          0\n",
       "DL          0\n",
       "DS          0\n",
       "DP          0\n",
       "ASTV        0\n",
       "MSTV        0\n",
       "ALTV        0\n",
       "MLTV        0\n",
       "Width       0\n",
       "Tendency    0\n",
       "NSP         0\n",
       "dtype: int64"
      ]
     },
     "execution_count": 104,
     "metadata": {},
     "output_type": "execute_result"
    }
   ],
   "source": [
    "data_2.isnull().sum()"
   ]
  },
  {
   "cell_type": "code",
   "execution_count": 113,
   "id": "7625468a-cd16-4185-aaf5-3cb8d47c4208",
   "metadata": {},
   "outputs": [
    {
     "data": {
      "text/plain": [
       "0       False\n",
       "1       False\n",
       "2       False\n",
       "3       False\n",
       "4       False\n",
       "        ...  \n",
       "2121    False\n",
       "2122    False\n",
       "2123    False\n",
       "2124    False\n",
       "2125    False\n",
       "Length: 2105, dtype: bool"
      ]
     },
     "execution_count": 113,
     "metadata": {},
     "output_type": "execute_result"
    }
   ],
   "source": [
    "data_2.duplicated()"
   ]
  },
  {
   "cell_type": "code",
   "execution_count": 3,
   "id": "2d4d24ca-19f4-4e3e-b692-647da2f75546",
   "metadata": {},
   "outputs": [
    {
     "ename": "NameError",
     "evalue": "name 'data_2' is not defined",
     "output_type": "error",
     "traceback": [
      "\u001b[1;31m---------------------------------------------------------------------------\u001b[0m",
      "\u001b[1;31mNameError\u001b[0m                                 Traceback (most recent call last)",
      "Cell \u001b[1;32mIn[3], line 1\u001b[0m\n\u001b[1;32m----> 1\u001b[0m data_2[data_2\u001b[38;5;241m.\u001b[39mduplicated()]\n",
      "\u001b[1;31mNameError\u001b[0m: name 'data_2' is not defined"
     ]
    }
   ],
   "source": [
    "data_2[data_2.duplicated()]\n"
   ]
  },
  {
   "cell_type": "code",
   "execution_count": 117,
   "id": "970cb538-ed67-4cb8-b486-fd4be53fc57e",
   "metadata": {},
   "outputs": [
    {
     "data": {
      "text/html": [
       "<div>\n",
       "<style scoped>\n",
       "    .dataframe tbody tr th:only-of-type {\n",
       "        vertical-align: middle;\n",
       "    }\n",
       "\n",
       "    .dataframe tbody tr th {\n",
       "        vertical-align: top;\n",
       "    }\n",
       "\n",
       "    .dataframe thead th {\n",
       "        text-align: right;\n",
       "    }\n",
       "</style>\n",
       "<table border=\"1\" class=\"dataframe\">\n",
       "  <thead>\n",
       "    <tr style=\"text-align: right;\">\n",
       "      <th></th>\n",
       "      <th>LB</th>\n",
       "      <th>AC</th>\n",
       "      <th>FM</th>\n",
       "      <th>UC</th>\n",
       "      <th>DL</th>\n",
       "      <th>DS</th>\n",
       "      <th>DP</th>\n",
       "      <th>ASTV</th>\n",
       "      <th>MSTV</th>\n",
       "      <th>ALTV</th>\n",
       "      <th>MLTV</th>\n",
       "      <th>Width</th>\n",
       "      <th>Tendency</th>\n",
       "      <th>NSP</th>\n",
       "    </tr>\n",
       "  </thead>\n",
       "  <tbody>\n",
       "    <tr>\n",
       "      <th>1115</th>\n",
       "      <td>122.0</td>\n",
       "      <td>0.000000</td>\n",
       "      <td>0.0</td>\n",
       "      <td>0.000000</td>\n",
       "      <td>0.0</td>\n",
       "      <td>0.0</td>\n",
       "      <td>0.0</td>\n",
       "      <td>19.0</td>\n",
       "      <td>1.9</td>\n",
       "      <td>0.0</td>\n",
       "      <td>15.1</td>\n",
       "      <td>39.0</td>\n",
       "      <td>0.0</td>\n",
       "      <td>1.0</td>\n",
       "    </tr>\n",
       "    <tr>\n",
       "      <th>1458</th>\n",
       "      <td>148.0</td>\n",
       "      <td>0.004717</td>\n",
       "      <td>0.0</td>\n",
       "      <td>0.002358</td>\n",
       "      <td>0.0</td>\n",
       "      <td>0.0</td>\n",
       "      <td>0.0</td>\n",
       "      <td>40.0</td>\n",
       "      <td>0.9</td>\n",
       "      <td>0.0</td>\n",
       "      <td>10.6</td>\n",
       "      <td>35.0</td>\n",
       "      <td>0.0</td>\n",
       "      <td>1.0</td>\n",
       "    </tr>\n",
       "  </tbody>\n",
       "</table>\n",
       "</div>"
      ],
      "text/plain": [
       "         LB        AC   FM        UC   DL   DS   DP  ASTV  MSTV  ALTV  MLTV  \\\n",
       "1115  122.0  0.000000  0.0  0.000000  0.0  0.0  0.0  19.0   1.9   0.0  15.1   \n",
       "1458  148.0  0.004717  0.0  0.002358  0.0  0.0  0.0  40.0   0.9   0.0  10.6   \n",
       "\n",
       "      Width  Tendency  NSP  \n",
       "1115   39.0       0.0  1.0  \n",
       "1458   35.0       0.0  1.0  "
      ]
     },
     "execution_count": 117,
     "metadata": {},
     "output_type": "execute_result"
    }
   ],
   "source": [
    "data_2"
   ]
  },
  {
   "cell_type": "code",
   "execution_count": 105,
   "id": "d24cd7d3-5cf2-4816-8da9-2543e2883590",
   "metadata": {},
   "outputs": [
    {
     "name": "stdout",
     "output_type": "stream",
     "text": [
      "<class 'pandas.core.frame.DataFrame'>\n",
      "Index: 2105 entries, 0 to 2125\n",
      "Data columns (total 14 columns):\n",
      " #   Column    Non-Null Count  Dtype  \n",
      "---  ------    --------------  -----  \n",
      " 0   LB        2105 non-null   float64\n",
      " 1   AC        2105 non-null   float64\n",
      " 2   FM        2105 non-null   float64\n",
      " 3   UC        2105 non-null   float64\n",
      " 4   DL        2105 non-null   float64\n",
      " 5   DS        2105 non-null   float64\n",
      " 6   DP        2105 non-null   float64\n",
      " 7   ASTV      2105 non-null   float64\n",
      " 8   MSTV      2105 non-null   float64\n",
      " 9   ALTV      2105 non-null   float64\n",
      " 10  MLTV      2105 non-null   float64\n",
      " 11  Width     2105 non-null   float64\n",
      " 12  Tendency  2105 non-null   float64\n",
      " 13  NSP       2105 non-null   float64\n",
      "dtypes: float64(14)\n",
      "memory usage: 246.7 KB\n"
     ]
    }
   ],
   "source": [
    "data_2.info()"
   ]
  },
  {
   "cell_type": "code",
   "execution_count": 106,
   "id": "03c0b661-f986-420e-b19c-680ae2662045",
   "metadata": {},
   "outputs": [
    {
     "data": {
      "text/plain": [
       "LB          133.343598\n",
       "AC            0.003202\n",
       "FM            0.009963\n",
       "UC            0.004388\n",
       "DL            0.001892\n",
       "DS            0.000003\n",
       "DP            0.000175\n",
       "ASTV         46.996929\n",
       "MSTV          1.361006\n",
       "ALTV         10.353647\n",
       "MLTV          8.284887\n",
       "Width        70.429260\n",
       "Tendency      0.316371\n",
       "NSP           1.304507\n",
       "dtype: float64"
      ]
     },
     "execution_count": 106,
     "metadata": {},
     "output_type": "execute_result"
    }
   ],
   "source": [
    "data_2.mean()"
   ]
  },
  {
   "cell_type": "code",
   "execution_count": 108,
   "id": "57393239-1228-4b65-8e1d-588748ff9a03",
   "metadata": {},
   "outputs": [
    {
     "data": {
      "text/plain": [
       "LB          11.270154\n",
       "AC           0.004324\n",
       "FM           0.067870\n",
       "UC           0.003350\n",
       "DL           0.003348\n",
       "DS           0.000142\n",
       "DP           0.000840\n",
       "ASTV        18.847737\n",
       "MSTV         1.173164\n",
       "ALTV        21.282102\n",
       "MLTV         7.772858\n",
       "Width       42.931822\n",
       "Tendency     0.645622\n",
       "NSP          0.644619\n",
       "dtype: float64"
      ]
     },
     "execution_count": 108,
     "metadata": {},
     "output_type": "execute_result"
    }
   ],
   "source": [
    "data_2.std()"
   ]
  },
  {
   "cell_type": "markdown",
   "id": "e1270355-8492-406c-bba4-1a741da5ea6a",
   "metadata": {},
   "source": [
    "Visulization"
   ]
  },
  {
   "cell_type": "code",
   "execution_count": 109,
   "id": "0820813d-df74-4a5e-91fc-d605c03793b0",
   "metadata": {},
   "outputs": [
    {
     "data": {
      "text/plain": [
       "<Axes: ylabel='Frequency'>"
      ]
     },
     "execution_count": 109,
     "metadata": {},
     "output_type": "execute_result"
    },
    {
     "data": {
      "image/png": "[encoded data removed]",
      "text/plain": [
       "<Figure size 640x480 with 1 Axes>"
      ]
     },
     "metadata": {},
     "output_type": "display_data"
    }
   ],
   "source": [
    "data_2.plot(kind=\"hist\")"
   ]
  },
  {
   "cell_type": "code",
   "execution_count": 110,
   "id": "9ebb317d-97df-4964-bff4-f6494f726dfe",
   "metadata": {},
   "outputs": [
    {
     "data": {
      "text/plain": [
       "<Axes: >"
      ]
     },
     "execution_count": 110,
     "metadata": {},
     "output_type": "execute_result"
    },
    {
     "data": {
      "image/png": "[encoded data removed]",
      "text/plain": [
       "<Figure size 640x480 with 1 Axes>"
      ]
     },
     "metadata": {},
     "output_type": "display_data"
    }
   ],
   "source": [
    "data_2.plot(kind='box')"
   ]
  },
  {
   "cell_type": "code",
   "execution_count": 17,
   "id": "4d6e7fff-40a0-4d7f-8b0f-906248f7b5d1",
   "metadata": {},
   "outputs": [
    {
     "data": {
      "text/plain": [
       "<Axes: ylabel='Frequency'>"
      ]
     },
     "execution_count": 17,
     "metadata": {},
     "output_type": "execute_result"
    },
    {
     "data": {
      "image/png": "[encoded data removed]",
      "text/plain": [
       "<Figure size 640x480 with 1 Axes>"
      ]
     },
     "metadata": {},
     "output_type": "display_data"
    }
   ],
   "source": [
    "data_2.LB.plot(kind=\"hist\")"
   ]
  },
  {
   "cell_type": "code",
   "execution_count": 18,
   "id": "09560b8d-0f02-41cb-b4da-da86265a4d2f",
   "metadata": {},
   "outputs": [
    {
     "data": {
      "text/plain": [
       "<Axes: >"
      ]
     },
     "execution_count": 18,
     "metadata": {},
     "output_type": "execute_result"
    },
    {
     "data": {
      "image/png": "[encoded data removed]",
      "text/plain": [
       "<Figure size 640x480 with 1 Axes>"
      ]
     },
     "metadata": {},
     "output_type": "display_data"
    }
   ],
   "source": [
    "data2.LB.plot(kind='box')"
   ]
  },
  {
   "cell_type": "code",
   "execution_count": 19,
   "id": "c1d136e5-21ee-4ca5-91bc-8416dcee9f67",
   "metadata": {},
   "outputs": [
    {
     "data": {
      "text/plain": [
       "0.32074705773050133"
      ]
     },
     "execution_count": 19,
     "metadata": {},
     "output_type": "execute_result"
    }
   ],
   "source": [
    "data2.LB.skew()"
   ]
  },
  {
   "cell_type": "code",
   "execution_count": 20,
   "id": "303930ec-6182-467f-bfb7-108a3b1a518f",
   "metadata": {},
   "outputs": [
    {
     "data": {
      "text/plain": [
       "11.216031045144742"
      ]
     },
     "execution_count": 20,
     "metadata": {},
     "output_type": "execute_result"
    }
   ],
   "source": [
    "data2.LB.kurt()"
   ]
  },
  {
   "cell_type": "code",
   "execution_count": 21,
   "id": "af8cd2cc-b086-4a3f-a3b5-39a65387a9e9",
   "metadata": {},
   "outputs": [
    {
     "data": {
      "text/plain": [
       "<Axes: ylabel='Frequency'>"
      ]
     },
     "execution_count": 21,
     "metadata": {},
     "output_type": "execute_result"
    },
    {
     "data": {
      "image/png": "[encoded data removed]",
      "text/plain": [
       "<Figure size 640x480 with 1 Axes>"
      ]
     },
     "metadata": {},
     "output_type": "display_data"
    }
   ],
   "source": [
    "data2.AC.plot(kind='hist')"
   ]
  },
  {
   "cell_type": "code",
   "execution_count": 22,
   "id": "58d55e8a-a8f1-4b50-8202-e1ef3ec2fd7d",
   "metadata": {},
   "outputs": [
    {
     "data": {
      "text/plain": [
       "<Axes: >"
      ]
     },
     "execution_count": 22,
     "metadata": {},
     "output_type": "execute_result"
    },
    {
     "data": {
      "image/png": "[encoded data removed]",
      "text/plain": [
       "<Figure size 640x480 with 1 Axes>"
      ]
     },
     "metadata": {},
     "output_type": "display_data"
    }
   ],
   "source": [
    "data2.AC.plot(kind='box')"
   ]
  },
  {
   "cell_type": "code",
   "execution_count": 23,
   "id": "5a2d535f-a2fd-4b9e-ba31-f0784bbf925d",
   "metadata": {},
   "outputs": [
    {
     "data": {
      "text/plain": [
       "1.8648855629415217"
      ]
     },
     "execution_count": 23,
     "metadata": {},
     "output_type": "execute_result"
    }
   ],
   "source": [
    "data2.AC.skew()"
   ]
  },
  {
   "cell_type": "code",
   "execution_count": 24,
   "id": "7a0745c9-a0cd-4bd7-9258-248c76f5f8c4",
   "metadata": {},
   "outputs": [
    {
     "data": {
      "text/plain": [
       "11.412960125344512"
      ]
     },
     "execution_count": 24,
     "metadata": {},
     "output_type": "execute_result"
    }
   ],
   "source": [
    "data2.AC.kurt()"
   ]
  },
  {
   "cell_type": "code",
   "execution_count": 25,
   "id": "a1bcb477-b5b8-4f1b-adab-6df0139442d6",
   "metadata": {},
   "outputs": [
    {
     "data": {
      "text/plain": [
       "<Axes: ylabel='Frequency'>"
      ]
     },
     "execution_count": 25,
     "metadata": {},
     "output_type": "execute_result"
    },
    {
     "data": {
      "image/png": "[encoded data removed]",
      "text/plain": [
       "<Figure size 640x480 with 1 Axes>"
      ]
     },
     "metadata": {},
     "output_type": "display_data"
    }
   ],
   "source": [
    "data2.FM.plot(kind='hist')"
   ]
  },
  {
   "cell_type": "code",
   "execution_count": 26,
   "id": "b6b93ee5-6fe4-4f18-a512-0ec61d17449d",
   "metadata": {},
   "outputs": [
    {
     "data": {
      "text/plain": [
       "<Axes: >"
      ]
     },
     "execution_count": 26,
     "metadata": {},
     "output_type": "execute_result"
    },
    {
     "data": {
      "image/png": "[encoded data removed]",
      "text/plain": [
       "<Figure size 640x480 with 1 Axes>"
      ]
     },
     "metadata": {},
     "output_type": "display_data"
    }
   ],
   "source": [
    "data2.FM.plot(kind='box')"
   ]
  },
  {
   "cell_type": "code",
   "execution_count": 27,
   "id": "fcecc5f8-9a3b-43aa-ba28-a447af079631",
   "metadata": {},
   "outputs": [
    {
     "data": {
      "text/plain": [
       "6.7183555476041406"
      ]
     },
     "execution_count": 27,
     "metadata": {},
     "output_type": "execute_result"
    }
   ],
   "source": [
    "data2.FM.skew()"
   ]
  },
  {
   "cell_type": "code",
   "execution_count": 28,
   "id": "6f51898e-82c9-448f-85ec-4ebe35938016",
   "metadata": {},
   "outputs": [
    {
     "data": {
      "text/plain": [
       "93.51687194334404"
      ]
     },
     "execution_count": 28,
     "metadata": {},
     "output_type": "execute_result"
    }
   ],
   "source": [
    "data2.FM.kurt()"
   ]
  },
  {
   "cell_type": "code",
   "execution_count": 29,
   "id": "af2b4915-58d6-449e-b44e-55741bff192b",
   "metadata": {},
   "outputs": [
    {
     "data": {
      "text/plain": [
       "<Axes: ylabel='Frequency'>"
      ]
     },
     "execution_count": 29,
     "metadata": {},
     "output_type": "execute_result"
    },
    {
     "data": {
      "image/png": "[encoded data removed]",
      "text/plain": [
       "<Figure size 640x480 with 1 Axes>"
      ]
     },
     "metadata": {},
     "output_type": "display_data"
    }
   ],
   "source": [
    "data2.UC.plot(kind='hist')"
   ]
  },
  {
   "cell_type": "code",
   "execution_count": 30,
   "id": "e3b2d616-3e58-42bf-b8d9-cff222763afd",
   "metadata": {},
   "outputs": [
    {
     "data": {
      "text/plain": [
       "<Axes: >"
      ]
     },
     "execution_count": 30,
     "metadata": {},
     "output_type": "execute_result"
    },
    {
     "data": {
      "image/png": "[encoded data removed]",
      "text/plain": [
       "<Figure size 640x480 with 1 Axes>"
      ]
     },
     "metadata": {},
     "output_type": "display_data"
    }
   ],
   "source": [
    "data2.UC.plot(kind='box')"
   ]
  },
  {
   "cell_type": "code",
   "execution_count": 31,
   "id": "50a57dd6-846c-4b82-8082-329a916a711c",
   "metadata": {},
   "outputs": [
    {
     "data": {
      "text/plain": [
       "0.9773320428036035"
      ]
     },
     "execution_count": 31,
     "metadata": {},
     "output_type": "execute_result"
    }
   ],
   "source": [
    "data2.UC.skew()"
   ]
  },
  {
   "cell_type": "code",
   "execution_count": 32,
   "id": "bf764bb5-efaa-4b8f-bf40-a526eeafd973",
   "metadata": {},
   "outputs": [
    {
     "data": {
      "text/plain": [
       "10.111995414773006"
      ]
     },
     "execution_count": 32,
     "metadata": {},
     "output_type": "execute_result"
    }
   ],
   "source": [
    "data2.UC.kurt()"
   ]
  },
  {
   "cell_type": "code",
   "execution_count": 33,
   "id": "0483769f-cd3a-46ee-85b4-1c3b00193725",
   "metadata": {},
   "outputs": [
    {
     "data": {
      "text/plain": [
       "<Axes: ylabel='Frequency'>"
      ]
     },
     "execution_count": 33,
     "metadata": {},
     "output_type": "execute_result"
    },
    {
     "data": {
      "image/png": "[encoded data removed]",
      "text/plain": [
       "<Figure size 640x480 with 1 Axes>"
      ]
     },
     "metadata": {},
     "output_type": "display_data"
    }
   ],
   "source": [
    "data2.DL.plot(kind='hist')"
   ]
  },
  {
   "cell_type": "code",
   "execution_count": 34,
   "id": "ad2f6150-1029-44f8-b9b5-a70418f01f9a",
   "metadata": {},
   "outputs": [
    {
     "data": {
      "text/plain": [
       "<Axes: >"
      ]
     },
     "execution_count": 34,
     "metadata": {},
     "output_type": "execute_result"
    },
    {
     "data": {
      "image/png": "[encoded data removed]",
      "text/plain": [
       "<Figure size 640x480 with 1 Axes>"
      ]
     },
     "metadata": {},
     "output_type": "display_data"
    }
   ],
   "source": [
    "data2.DL.plot(kind='box')"
   ]
  },
  {
   "cell_type": "code",
   "execution_count": 35,
   "id": "3ad34af2-a2f5-4a6c-8edb-155a0075544a",
   "metadata": {},
   "outputs": [
    {
     "data": {
      "text/plain": [
       "2.0119702704876623"
      ]
     },
     "execution_count": 35,
     "metadata": {},
     "output_type": "execute_result"
    }
   ],
   "source": [
    "data2.DL.skew()"
   ]
  },
  {
   "cell_type": "code",
   "execution_count": 36,
   "id": "1f8c3a9d-8ec0-4de2-9c0b-096a7a4e5c4e",
   "metadata": {},
   "outputs": [
    {
     "data": {
      "text/plain": [
       "12.88840216656909"
      ]
     },
     "execution_count": 36,
     "metadata": {},
     "output_type": "execute_result"
    }
   ],
   "source": [
    "data2.DL.kurt()"
   ]
  },
  {
   "cell_type": "code",
   "execution_count": 37,
   "id": "ec15c8fe-f8da-4277-bed8-c51d8a0ce683",
   "metadata": {},
   "outputs": [
    {
     "data": {
      "text/plain": [
       "<Axes: ylabel='Frequency'>"
      ]
     },
     "execution_count": 37,
     "metadata": {},
     "output_type": "execute_result"
    },
    {
     "data": {
      "image/png": "[encoded data removed]",
      "text/plain": [
       "<Figure size 640x480 with 1 Axes>"
      ]
     },
     "metadata": {},
     "output_type": "display_data"
    }
   ],
   "source": [
    "data2.DS.plot(kind='hist')"
   ]
  },
  {
   "cell_type": "code",
   "execution_count": 38,
   "id": "64781d4d-dc34-4d3a-9bdd-bc3352795442",
   "metadata": {},
   "outputs": [
    {
     "data": {
      "text/plain": [
       "<Axes: >"
      ]
     },
     "execution_count": 38,
     "metadata": {},
     "output_type": "execute_result"
    },
    {
     "data": {
      "image/png": "[encoded data removed]",
      "text/plain": [
       "<Figure size 640x480 with 1 Axes>"
      ]
     },
     "metadata": {},
     "output_type": "display_data"
    }
   ],
   "source": [
    "data2.DS.plot(kind='box')"
   ]
  },
  {
   "cell_type": "code",
   "execution_count": 39,
   "id": "4713273a-9e73-42bb-becf-bf764d373db3",
   "metadata": {},
   "outputs": [
    {
     "data": {
      "text/plain": [
       "8.4189843203872"
      ]
     },
     "execution_count": 39,
     "metadata": {},
     "output_type": "execute_result"
    }
   ],
   "source": [
    "data2.DS.skew()"
   ]
  },
  {
   "cell_type": "code",
   "execution_count": 40,
   "id": "72012429-d036-4c5c-9d73-e3ccf7fc45e3",
   "metadata": {},
   "outputs": [
    {
     "data": {
      "text/plain": [
       "<Axes: ylabel='Frequency'>"
      ]
     },
     "execution_count": 40,
     "metadata": {},
     "output_type": "execute_result"
    },
    {
     "data": {
      "image/png": "[encoded data removed]",
      "text/plain": [
       "<Figure size 640x480 with 1 Axes>"
      ]
     },
     "metadata": {},
     "output_type": "display_data"
    }
   ],
   "source": [
    "data2.DP.plot(kind='hist')"
   ]
  },
  {
   "cell_type": "code",
   "execution_count": 41,
   "id": "fc8fe127-ecf8-4e6c-a172-4071d9629d5e",
   "metadata": {},
   "outputs": [
    {
     "data": {
      "text/plain": [
       "<Axes: >"
      ]
     },
     "execution_count": 41,
     "metadata": {},
     "output_type": "execute_result"
    },
    {
     "data": {
      "image/png": "[encoded data removed]",
      "text/plain": [
       "<Figure size 640x480 with 1 Axes>"
      ]
     },
     "metadata": {},
     "output_type": "display_data"
    }
   ],
   "source": [
    "data2.DP.plot(kind='box')"
   ]
  },
  {
   "cell_type": "code",
   "execution_count": 42,
   "id": "c6fb0fa1-2d09-4bb4-b619-3233b2fd6675",
   "metadata": {},
   "outputs": [
    {
     "data": {
      "text/plain": [
       "<Axes: ylabel='Frequency'>"
      ]
     },
     "execution_count": 42,
     "metadata": {},
     "output_type": "execute_result"
    },
    {
     "data": {
      "image/png": "[encoded data removed]",
      "text/plain": [
       "<Figure size 640x480 with 1 Axes>"
      ]
     },
     "metadata": {},
     "output_type": "display_data"
    }
   ],
   "source": [
    "data2.ALTV.plot(kind='hist')"
   ]
  },
  {
   "cell_type": "code",
   "execution_count": 43,
   "id": "4835330d-c686-4003-8e56-2d0d30ac82df",
   "metadata": {},
   "outputs": [
    {
     "data": {
      "text/plain": [
       "<Axes: >"
      ]
     },
     "execution_count": 43,
     "metadata": {},
     "output_type": "execute_result"
    },
    {
     "data": {
      "image/png": "[encoded data removed]",
      "text/plain": [
       "<Figure size 640x480 with 1 Axes>"
      ]
     },
     "metadata": {},
     "output_type": "display_data"
    }
   ],
   "source": [
    "data2.ALTV.plot(kind='box')"
   ]
  },
  {
   "cell_type": "code",
   "execution_count": 44,
   "id": "383a6214-d738-4716-9972-f0b28c7da200",
   "metadata": {},
   "outputs": [
    {
     "data": {
      "text/plain": [
       "<Axes: ylabel='Frequency'>"
      ]
     },
     "execution_count": 44,
     "metadata": {},
     "output_type": "execute_result"
    },
    {
     "data": {
      "image/png": "[encoded data removed]",
      "text/plain": [
       "<Figure size 640x480 with 1 Axes>"
      ]
     },
     "metadata": {},
     "output_type": "display_data"
    }
   ],
   "source": [
    "data2.MLTV.plot(kind='hist')"
   ]
  },
  {
   "cell_type": "code",
   "execution_count": 45,
   "id": "13889a19-15a3-41e1-83d1-bd0752b6e2b2",
   "metadata": {},
   "outputs": [
    {
     "data": {
      "text/plain": [
       "<Axes: >"
      ]
     },
     "execution_count": 45,
     "metadata": {},
     "output_type": "execute_result"
    },
    {
     "data": {
      "image/png": "[encoded data removed]",
      "text/plain": [
       "<Figure size 640x480 with 1 Axes>"
      ]
     },
     "metadata": {},
     "output_type": "display_data"
    }
   ],
   "source": [
    "data2.MLTV.plot(kind='box')"
   ]
  },
  {
   "cell_type": "code",
   "execution_count": 46,
   "id": "ba6bccac-585d-4444-b1f2-79f70b0c2594",
   "metadata": {},
   "outputs": [
    {
     "data": {
      "text/plain": [
       "<Axes: ylabel='Frequency'>"
      ]
     },
     "execution_count": 46,
     "metadata": {},
     "output_type": "execute_result"
    },
    {
     "data": {
      "image/png": "[encoded data removed]",
      "text/plain": [
       "<Figure size 640x480 with 1 Axes>"
      ]
     },
     "metadata": {},
     "output_type": "display_data"
    }
   ],
   "source": [
    "data2.ASTV.plot(kind='hist')"
   ]
  },
  {
   "cell_type": "code",
   "execution_count": 47,
   "id": "b1037e48-aa03-405c-83f7-3a73c3a695a2",
   "metadata": {},
   "outputs": [
    {
     "data": {
      "text/plain": [
       "<Axes: >"
      ]
     },
     "execution_count": 47,
     "metadata": {},
     "output_type": "execute_result"
    },
    {
     "data": {
      "image/png": "[encoded data removed]",
      "text/plain": [
       "<Figure size 640x480 with 1 Axes>"
      ]
     },
     "metadata": {},
     "output_type": "display_data"
    }
   ],
   "source": [
    "data2.ASTV.plot(kind='box')"
   ]
  },
  {
   "cell_type": "code",
   "execution_count": 48,
   "id": "ced5d1d2-2281-4c80-8087-29e5e3f95de7",
   "metadata": {},
   "outputs": [
    {
     "data": {
      "text/plain": [
       "<Axes: ylabel='Frequency'>"
      ]
     },
     "execution_count": 48,
     "metadata": {},
     "output_type": "execute_result"
    },
    {
     "data": {
      "image/png": "[encoded data removed]",
      "text/plain": [
       "<Figure size 640x480 with 1 Axes>"
      ]
     },
     "metadata": {},
     "output_type": "display_data"
    }
   ],
   "source": [
    "data2.MSTV.plot(kind='hist')"
   ]
  },
  {
   "cell_type": "code",
   "execution_count": 49,
   "id": "7eb16609-8698-4c3d-a760-5a7fc3eb72d5",
   "metadata": {},
   "outputs": [
    {
     "data": {
      "text/plain": [
       "<Axes: >"
      ]
     },
     "execution_count": 49,
     "metadata": {},
     "output_type": "execute_result"
    },
    {
     "data": {
      "image/png": "[encoded data removed]",
      "text/plain": [
       "<Figure size 640x480 with 1 Axes>"
      ]
     },
     "metadata": {},
     "output_type": "display_data"
    }
   ],
   "source": [
    "data2.MSTV.plot(kind='box')"
   ]
  },
  {
   "cell_type": "code",
   "execution_count": 50,
   "id": "03ed6e9d-7d57-4717-b261-83f306d81ea3",
   "metadata": {},
   "outputs": [
    {
     "data": {
      "text/plain": [
       "<Axes: ylabel='Frequency'>"
      ]
     },
     "execution_count": 50,
     "metadata": {},
     "output_type": "execute_result"
    },
    {
     "data": {
      "image/png": "[encoded data removed]",
      "text/plain": [
       "<Figure size 640x480 with 1 Axes>"
      ]
     },
     "metadata": {},
     "output_type": "display_data"
    }
   ],
   "source": [
    "data2.Width.plot(kind='hist')"
   ]
  },
  {
   "cell_type": "code",
   "execution_count": 51,
   "id": "c0b5a93c-9462-4b8f-835a-e56fc2243e77",
   "metadata": {},
   "outputs": [
    {
     "data": {
      "text/plain": [
       "<Axes: >"
      ]
     },
     "execution_count": 51,
     "metadata": {},
     "output_type": "execute_result"
    },
    {
     "data": {
      "image/png": "[encoded data removed]",
      "text/plain": [
       "<Figure size 640x480 with 1 Axes>"
      ]
     },
     "metadata": {},
     "output_type": "display_data"
    }
   ],
   "source": [
    "data2.Width.plot(kind='box')"
   ]
  },
  {
   "cell_type": "code",
   "execution_count": 52,
   "id": "095433ca-1db4-4f9b-88bd-b7c4dce6ae07",
   "metadata": {},
   "outputs": [
    {
     "data": {
      "text/plain": [
       "0.49524641569876393"
      ]
     },
     "execution_count": 52,
     "metadata": {},
     "output_type": "execute_result"
    }
   ],
   "source": [
    "data2.Width.skew()"
   ]
  },
  {
   "cell_type": "code",
   "execution_count": 53,
   "id": "78bf6f63-9351-419c-b046-a5b974cbb9ba",
   "metadata": {},
   "outputs": [
    {
     "data": {
      "text/plain": [
       "5.641816654546983"
      ]
     },
     "execution_count": 53,
     "metadata": {},
     "output_type": "execute_result"
    }
   ],
   "source": [
    "data2.Width.kurt()"
   ]
  },
  {
   "cell_type": "code",
   "execution_count": 54,
   "id": "94a15275-e836-43cd-9f65-87187a6ab122",
   "metadata": {},
   "outputs": [
    {
     "data": {
      "text/plain": [
       "<Axes: ylabel='Frequency'>"
      ]
     },
     "execution_count": 54,
     "metadata": {},
     "output_type": "execute_result"
    },
    {
     "data": {
      "image/png": "[encoded data removed]",
      "text/plain": [
       "<Figure size 640x480 with 1 Axes>"
      ]
     },
     "metadata": {},
     "output_type": "display_data"
    }
   ],
   "source": [
    "data2.Tendency.plot(kind='hist')"
   ]
  },
  {
   "cell_type": "code",
   "execution_count": 55,
   "id": "33542134-3127-4849-abca-9942cdfda0f1",
   "metadata": {},
   "outputs": [
    {
     "data": {
      "text/plain": [
       "<Axes: >"
      ]
     },
     "execution_count": 55,
     "metadata": {},
     "output_type": "execute_result"
    },
    {
     "data": {
      "image/png": "[encoded data removed]",
      "text/plain": [
       "<Figure size 640x480 with 1 Axes>"
      ]
     },
     "metadata": {},
     "output_type": "display_data"
    }
   ],
   "source": [
    "data2.Tendency.plot(kind='box')"
   ]
  },
  {
   "cell_type": "code",
   "execution_count": 56,
   "id": "6556ef73-8c2a-4cbd-ab76-589761cc1bcf",
   "metadata": {},
   "outputs": [
    {
     "data": {
      "text/plain": [
       "-0.4967885756659502"
      ]
     },
     "execution_count": 56,
     "metadata": {},
     "output_type": "execute_result"
    }
   ],
   "source": [
    "data2.Tendency.skew()"
   ]
  },
  {
   "cell_type": "code",
   "execution_count": 57,
   "id": "860345ce-a919-49ba-a63e-c572dbfc0bc3",
   "metadata": {},
   "outputs": [
    {
     "data": {
      "text/plain": [
       "1.4259722843299159"
      ]
     },
     "execution_count": 57,
     "metadata": {},
     "output_type": "execute_result"
    }
   ],
   "source": [
    "data2.Tendency.kurt()"
   ]
  },
  {
   "cell_type": "code",
   "execution_count": 58,
   "id": "8d932739-cf2c-4b6a-80aa-cd8a0b4edcd4",
   "metadata": {},
   "outputs": [
    {
     "data": {
      "text/plain": [
       "<Axes: ylabel='Frequency'>"
      ]
     },
     "execution_count": 58,
     "metadata": {},
     "output_type": "execute_result"
    },
    {
     "data": {
      "image/png": "[encoded data removed]",
      "text/plain": [
       "<Figure size 640x480 with 1 Axes>"
      ]
     },
     "metadata": {},
     "output_type": "display_data"
    }
   ],
   "source": [
    "data2.NSP.plot(kind='hist')"
   ]
  },
  {
   "cell_type": "code",
   "execution_count": 59,
   "id": "813e4288-2b06-44b5-8045-7c2815bd68bd",
   "metadata": {},
   "outputs": [
    {
     "data": {
      "text/plain": [
       "<Axes: >"
      ]
     },
     "execution_count": 59,
     "metadata": {},
     "output_type": "execute_result"
    },
    {
     "data": {
      "image/png": "[encoded data removed]",
      "text/plain": [
       "<Figure size 640x480 with 1 Axes>"
      ]
     },
     "metadata": {},
     "output_type": "display_data"
    }
   ],
   "source": [
    "data2.NSP.plot(kind='box')"
   ]
  },
  {
   "cell_type": "code",
   "execution_count": 61,
   "id": "9645e739-ed28-4051-ad07-2f0f8f030f90",
   "metadata": {},
   "outputs": [
    {
     "data": {
      "text/plain": [
       "0       False\n",
       "1       False\n",
       "2       False\n",
       "3       False\n",
       "4       False\n",
       "        ...  \n",
       "2121    False\n",
       "2122    False\n",
       "2123    False\n",
       "2124    False\n",
       "2125    False\n",
       "Length: 2105, dtype: bool"
      ]
     },
     "execution_count": 61,
     "metadata": {},
     "output_type": "execute_result"
    }
   ],
   "source": [
    "data2.duplicated()"
   ]
  },
  {
   "cell_type": "code",
   "execution_count": 93,
   "id": "519b9270-f07f-40f1-87eb-4dc8838d11cc",
   "metadata": {},
   "outputs": [],
   "source": [
    "data_duplicate= data2[data2.duplicated()]"
   ]
  },
  {
   "cell_type": "code",
   "execution_count": 94,
   "id": "7442b6ae-a59e-45e8-995f-8fe1caa0e728",
   "metadata": {},
   "outputs": [
    {
     "data": {
      "text/html": [
       "<div>\n",
       "<style scoped>\n",
       "    .dataframe tbody tr th:only-of-type {\n",
       "        vertical-align: middle;\n",
       "    }\n",
       "\n",
       "    .dataframe tbody tr th {\n",
       "        vertical-align: top;\n",
       "    }\n",
       "\n",
       "    .dataframe thead th {\n",
       "        text-align: right;\n",
       "    }\n",
       "</style>\n",
       "<table border=\"1\" class=\"dataframe\">\n",
       "  <thead>\n",
       "    <tr style=\"text-align: right;\">\n",
       "      <th></th>\n",
       "      <th>LB</th>\n",
       "      <th>AC</th>\n",
       "      <th>FM</th>\n",
       "      <th>UC</th>\n",
       "      <th>DL</th>\n",
       "      <th>DS</th>\n",
       "      <th>DP</th>\n",
       "      <th>ASTV</th>\n",
       "      <th>MSTV</th>\n",
       "      <th>ALTV</th>\n",
       "      <th>MLTV</th>\n",
       "      <th>Width</th>\n",
       "      <th>Tendency</th>\n",
       "      <th>NSP</th>\n",
       "    </tr>\n",
       "  </thead>\n",
       "  <tbody>\n",
       "  </tbody>\n",
       "</table>\n",
       "</div>"
      ],
      "text/plain": [
       "Empty DataFrame\n",
       "Columns: [LB, AC, FM, UC, DL, DS, DP, ASTV, MSTV, ALTV, MLTV, Width, Tendency, NSP]\n",
       "Index: []"
      ]
     },
     "execution_count": 94,
     "metadata": {},
     "output_type": "execute_result"
    }
   ],
   "source": [
    "data_duplicate"
   ]
  },
  {
   "cell_type": "code",
   "execution_count": 97,
   "id": "8f9ace28-f15a-4433-9142-014224920498",
   "metadata": {},
   "outputs": [],
   "source": [
    "corr_mat=data1.corr()"
   ]
  },
  {
   "cell_type": "code",
   "execution_count": 98,
   "id": "ce7e76f3-2b3f-4548-bf99-b658c779a9a9",
   "metadata": {},
   "outputs": [
    {
     "data": {
      "text/html": [
       "<div>\n",
       "<style scoped>\n",
       "    .dataframe tbody tr th:only-of-type {\n",
       "        vertical-align: middle;\n",
       "    }\n",
       "\n",
       "    .dataframe tbody tr th {\n",
       "        vertical-align: top;\n",
       "    }\n",
       "\n",
       "    .dataframe thead th {\n",
       "        text-align: right;\n",
       "    }\n",
       "</style>\n",
       "<table border=\"1\" class=\"dataframe\">\n",
       "  <thead>\n",
       "    <tr style=\"text-align: right;\">\n",
       "      <th></th>\n",
       "      <th>LB</th>\n",
       "      <th>AC</th>\n",
       "      <th>FM</th>\n",
       "      <th>UC</th>\n",
       "      <th>DL</th>\n",
       "      <th>DS</th>\n",
       "      <th>DP</th>\n",
       "      <th>ASTV</th>\n",
       "      <th>MSTV</th>\n",
       "      <th>ALTV</th>\n",
       "      <th>MLTV</th>\n",
       "      <th>Width</th>\n",
       "      <th>Tendency</th>\n",
       "      <th>NSP</th>\n",
       "    </tr>\n",
       "  </thead>\n",
       "  <tbody>\n",
       "    <tr>\n",
       "      <th>LB</th>\n",
       "      <td>1.000000</td>\n",
       "      <td>-0.063830</td>\n",
       "      <td>0.018777</td>\n",
       "      <td>-0.166570</td>\n",
       "      <td>-0.126959</td>\n",
       "      <td>-0.005438</td>\n",
       "      <td>-0.047724</td>\n",
       "      <td>0.242625</td>\n",
       "      <td>-0.170473</td>\n",
       "      <td>0.210728</td>\n",
       "      <td>-0.003457</td>\n",
       "      <td>-0.118425</td>\n",
       "      <td>0.236864</td>\n",
       "      <td>0.131843</td>\n",
       "    </tr>\n",
       "    <tr>\n",
       "      <th>AC</th>\n",
       "      <td>-0.063830</td>\n",
       "      <td>1.000000</td>\n",
       "      <td>0.009433</td>\n",
       "      <td>0.072012</td>\n",
       "      <td>-0.093507</td>\n",
       "      <td>-0.033623</td>\n",
       "      <td>-0.084590</td>\n",
       "      <td>-0.231103</td>\n",
       "      <td>0.134168</td>\n",
       "      <td>-0.271390</td>\n",
       "      <td>-0.106529</td>\n",
       "      <td>0.238436</td>\n",
       "      <td>0.032481</td>\n",
       "      <td>-0.316941</td>\n",
       "    </tr>\n",
       "    <tr>\n",
       "      <th>FM</th>\n",
       "      <td>0.018777</td>\n",
       "      <td>0.009433</td>\n",
       "      <td>1.000000</td>\n",
       "      <td>-0.053226</td>\n",
       "      <td>0.009718</td>\n",
       "      <td>0.029901</td>\n",
       "      <td>0.121284</td>\n",
       "      <td>-0.032691</td>\n",
       "      <td>0.017055</td>\n",
       "      <td>-0.011936</td>\n",
       "      <td>-0.006237</td>\n",
       "      <td>0.097213</td>\n",
       "      <td>-0.018339</td>\n",
       "      <td>0.074054</td>\n",
       "    </tr>\n",
       "    <tr>\n",
       "      <th>UC</th>\n",
       "      <td>-0.166570</td>\n",
       "      <td>0.072012</td>\n",
       "      <td>-0.053226</td>\n",
       "      <td>1.000000</td>\n",
       "      <td>0.190128</td>\n",
       "      <td>-0.006937</td>\n",
       "      <td>0.070658</td>\n",
       "      <td>-0.181161</td>\n",
       "      <td>0.189406</td>\n",
       "      <td>-0.227304</td>\n",
       "      <td>-0.049460</td>\n",
       "      <td>0.107397</td>\n",
       "      <td>-0.066610</td>\n",
       "      <td>-0.185411</td>\n",
       "    </tr>\n",
       "    <tr>\n",
       "      <th>DL</th>\n",
       "      <td>-0.126959</td>\n",
       "      <td>-0.093507</td>\n",
       "      <td>0.009718</td>\n",
       "      <td>0.190128</td>\n",
       "      <td>1.000000</td>\n",
       "      <td>0.058625</td>\n",
       "      <td>0.145425</td>\n",
       "      <td>-0.069361</td>\n",
       "      <td>0.410102</td>\n",
       "      <td>-0.186967</td>\n",
       "      <td>-0.165750</td>\n",
       "      <td>0.410031</td>\n",
       "      <td>-0.023569</td>\n",
       "      <td>0.025427</td>\n",
       "    </tr>\n",
       "    <tr>\n",
       "      <th>DS</th>\n",
       "      <td>-0.005438</td>\n",
       "      <td>-0.033623</td>\n",
       "      <td>0.029901</td>\n",
       "      <td>-0.006937</td>\n",
       "      <td>0.058625</td>\n",
       "      <td>1.000000</td>\n",
       "      <td>0.004285</td>\n",
       "      <td>0.008452</td>\n",
       "      <td>0.016163</td>\n",
       "      <td>-0.004398</td>\n",
       "      <td>0.034349</td>\n",
       "      <td>0.040832</td>\n",
       "      <td>-0.015398</td>\n",
       "      <td>0.065400</td>\n",
       "    </tr>\n",
       "    <tr>\n",
       "      <th>DP</th>\n",
       "      <td>-0.047724</td>\n",
       "      <td>-0.084590</td>\n",
       "      <td>0.121284</td>\n",
       "      <td>0.070658</td>\n",
       "      <td>0.145425</td>\n",
       "      <td>0.004285</td>\n",
       "      <td>1.000000</td>\n",
       "      <td>0.038238</td>\n",
       "      <td>0.119892</td>\n",
       "      <td>-0.077758</td>\n",
       "      <td>-0.114084</td>\n",
       "      <td>0.175340</td>\n",
       "      <td>-0.130395</td>\n",
       "      <td>0.294472</td>\n",
       "    </tr>\n",
       "    <tr>\n",
       "      <th>ASTV</th>\n",
       "      <td>0.242625</td>\n",
       "      <td>-0.231103</td>\n",
       "      <td>-0.032691</td>\n",
       "      <td>-0.181161</td>\n",
       "      <td>-0.069361</td>\n",
       "      <td>0.008452</td>\n",
       "      <td>0.038238</td>\n",
       "      <td>1.000000</td>\n",
       "      <td>-0.293882</td>\n",
       "      <td>0.357497</td>\n",
       "      <td>-0.220427</td>\n",
       "      <td>-0.207599</td>\n",
       "      <td>-0.010927</td>\n",
       "      <td>0.422652</td>\n",
       "    </tr>\n",
       "    <tr>\n",
       "      <th>MSTV</th>\n",
       "      <td>-0.170473</td>\n",
       "      <td>0.134168</td>\n",
       "      <td>0.017055</td>\n",
       "      <td>0.189406</td>\n",
       "      <td>0.410102</td>\n",
       "      <td>0.016163</td>\n",
       "      <td>0.119892</td>\n",
       "      <td>-0.293882</td>\n",
       "      <td>1.000000</td>\n",
       "      <td>-0.291935</td>\n",
       "      <td>0.028934</td>\n",
       "      <td>0.435393</td>\n",
       "      <td>-0.036857</td>\n",
       "      <td>-0.095139</td>\n",
       "    </tr>\n",
       "    <tr>\n",
       "      <th>ALTV</th>\n",
       "      <td>0.210728</td>\n",
       "      <td>-0.271390</td>\n",
       "      <td>-0.011936</td>\n",
       "      <td>-0.227304</td>\n",
       "      <td>-0.186967</td>\n",
       "      <td>-0.004398</td>\n",
       "      <td>-0.077758</td>\n",
       "      <td>0.357497</td>\n",
       "      <td>-0.291935</td>\n",
       "      <td>1.000000</td>\n",
       "      <td>-0.107712</td>\n",
       "      <td>-0.346460</td>\n",
       "      <td>0.036771</td>\n",
       "      <td>0.365846</td>\n",
       "    </tr>\n",
       "    <tr>\n",
       "      <th>MLTV</th>\n",
       "      <td>-0.003457</td>\n",
       "      <td>-0.106529</td>\n",
       "      <td>-0.006237</td>\n",
       "      <td>-0.049460</td>\n",
       "      <td>-0.165750</td>\n",
       "      <td>0.034349</td>\n",
       "      <td>-0.114084</td>\n",
       "      <td>-0.220427</td>\n",
       "      <td>0.028934</td>\n",
       "      <td>-0.107712</td>\n",
       "      <td>1.000000</td>\n",
       "      <td>0.058580</td>\n",
       "      <td>0.116361</td>\n",
       "      <td>-0.113674</td>\n",
       "    </tr>\n",
       "    <tr>\n",
       "      <th>Width</th>\n",
       "      <td>-0.118425</td>\n",
       "      <td>0.238436</td>\n",
       "      <td>0.097213</td>\n",
       "      <td>0.107397</td>\n",
       "      <td>0.410031</td>\n",
       "      <td>0.040832</td>\n",
       "      <td>0.175340</td>\n",
       "      <td>-0.207599</td>\n",
       "      <td>0.435393</td>\n",
       "      <td>-0.346460</td>\n",
       "      <td>0.058580</td>\n",
       "      <td>1.000000</td>\n",
       "      <td>0.081355</td>\n",
       "      <td>-0.067423</td>\n",
       "    </tr>\n",
       "    <tr>\n",
       "      <th>Tendency</th>\n",
       "      <td>0.236864</td>\n",
       "      <td>0.032481</td>\n",
       "      <td>-0.018339</td>\n",
       "      <td>-0.066610</td>\n",
       "      <td>-0.023569</td>\n",
       "      <td>-0.015398</td>\n",
       "      <td>-0.130395</td>\n",
       "      <td>-0.010927</td>\n",
       "      <td>-0.036857</td>\n",
       "      <td>0.036771</td>\n",
       "      <td>0.116361</td>\n",
       "      <td>0.081355</td>\n",
       "      <td>1.000000</td>\n",
       "      <td>-0.106238</td>\n",
       "    </tr>\n",
       "    <tr>\n",
       "      <th>NSP</th>\n",
       "      <td>0.131843</td>\n",
       "      <td>-0.316941</td>\n",
       "      <td>0.074054</td>\n",
       "      <td>-0.185411</td>\n",
       "      <td>0.025427</td>\n",
       "      <td>0.065400</td>\n",
       "      <td>0.294472</td>\n",
       "      <td>0.422652</td>\n",
       "      <td>-0.095139</td>\n",
       "      <td>0.365846</td>\n",
       "      <td>-0.113674</td>\n",
       "      <td>-0.067423</td>\n",
       "      <td>-0.106238</td>\n",
       "      <td>1.000000</td>\n",
       "    </tr>\n",
       "  </tbody>\n",
       "</table>\n",
       "</div>"
      ],
      "text/plain": [
       "                LB        AC        FM        UC        DL        DS  \\\n",
       "LB        1.000000 -0.063830  0.018777 -0.166570 -0.126959 -0.005438   \n",
       "AC       -0.063830  1.000000  0.009433  0.072012 -0.093507 -0.033623   \n",
       "FM        0.018777  0.009433  1.000000 -0.053226  0.009718  0.029901   \n",
       "UC       -0.166570  0.072012 -0.053226  1.000000  0.190128 -0.006937   \n",
       "DL       -0.126959 -0.093507  0.009718  0.190128  1.000000  0.058625   \n",
       "DS       -0.005438 -0.033623  0.029901 -0.006937  0.058625  1.000000   \n",
       "DP       -0.047724 -0.084590  0.121284  0.070658  0.145425  0.004285   \n",
       "ASTV      0.242625 -0.231103 -0.032691 -0.181161 -0.069361  0.008452   \n",
       "MSTV     -0.170473  0.134168  0.017055  0.189406  0.410102  0.016163   \n",
       "ALTV      0.210728 -0.271390 -0.011936 -0.227304 -0.186967 -0.004398   \n",
       "MLTV     -0.003457 -0.106529 -0.006237 -0.049460 -0.165750  0.034349   \n",
       "Width    -0.118425  0.238436  0.097213  0.107397  0.410031  0.040832   \n",
       "Tendency  0.236864  0.032481 -0.018339 -0.066610 -0.023569 -0.015398   \n",
       "NSP       0.131843 -0.316941  0.074054 -0.185411  0.025427  0.065400   \n",
       "\n",
       "                DP      ASTV      MSTV      ALTV      MLTV     Width  \\\n",
       "LB       -0.047724  0.242625 -0.170473  0.210728 -0.003457 -0.118425   \n",
       "AC       -0.084590 -0.231103  0.134168 -0.271390 -0.106529  0.238436   \n",
       "FM        0.121284 -0.032691  0.017055 -0.011936 -0.006237  0.097213   \n",
       "UC        0.070658 -0.181161  0.189406 -0.227304 -0.049460  0.107397   \n",
       "DL        0.145425 -0.069361  0.410102 -0.186967 -0.165750  0.410031   \n",
       "DS        0.004285  0.008452  0.016163 -0.004398  0.034349  0.040832   \n",
       "DP        1.000000  0.038238  0.119892 -0.077758 -0.114084  0.175340   \n",
       "ASTV      0.038238  1.000000 -0.293882  0.357497 -0.220427 -0.207599   \n",
       "MSTV      0.119892 -0.293882  1.000000 -0.291935  0.028934  0.435393   \n",
       "ALTV     -0.077758  0.357497 -0.291935  1.000000 -0.107712 -0.346460   \n",
       "MLTV     -0.114084 -0.220427  0.028934 -0.107712  1.000000  0.058580   \n",
       "Width     0.175340 -0.207599  0.435393 -0.346460  0.058580  1.000000   \n",
       "Tendency -0.130395 -0.010927 -0.036857  0.036771  0.116361  0.081355   \n",
       "NSP       0.294472  0.422652 -0.095139  0.365846 -0.113674 -0.067423   \n",
       "\n",
       "          Tendency       NSP  \n",
       "LB        0.236864  0.131843  \n",
       "AC        0.032481 -0.316941  \n",
       "FM       -0.018339  0.074054  \n",
       "UC       -0.066610 -0.185411  \n",
       "DL       -0.023569  0.025427  \n",
       "DS       -0.015398  0.065400  \n",
       "DP       -0.130395  0.294472  \n",
       "ASTV     -0.010927  0.422652  \n",
       "MSTV     -0.036857 -0.095139  \n",
       "ALTV      0.036771  0.365846  \n",
       "MLTV      0.116361 -0.113674  \n",
       "Width     0.081355 -0.067423  \n",
       "Tendency  1.000000 -0.106238  \n",
       "NSP      -0.106238  1.000000  "
      ]
     },
     "execution_count": 98,
     "metadata": {},
     "output_type": "execute_result"
    }
   ],
   "source": [
    "corr_mat"
   ]
  },
  {
   "cell_type": "code",
   "execution_count": 99,
   "id": "7ef7c69d-8bd6-4bda-b016-c7d6e03412bf",
   "metadata": {},
   "outputs": [
    {
     "data": {
      "text/plain": [
       "LB          21\n",
       "AC          20\n",
       "FM           0\n",
       "UC           0\n",
       "DL           0\n",
       "DS          21\n",
       "DP          21\n",
       "ASTV         0\n",
       "MSTV         0\n",
       "ALTV         0\n",
       "MLTV        21\n",
       "Width       21\n",
       "Tendency    21\n",
       "NSP         21\n",
       "dtype: int64"
      ]
     },
     "execution_count": 99,
     "metadata": {},
     "output_type": "execute_result"
    }
   ],
   "source": [
    "data1.isnull().sum()"
   ]
  },
  {
   "cell_type": "code",
   "execution_count": null,
   "id": "c47d7f99-bdd5-40c8-9e56-f5f5aebbea1a",
   "metadata": {},
   "outputs": [],
   "source": []
  }
 ],
 "metadata": {
  "kernelspec": {
   "display_name": "Python 3 (ipykernel)",
   "language": "python",
   "name": "python3"
  },
  "language_info": {
   "codemirror_mode": {
    "name": "ipython",
    "version": 3
   },
   "file_extension": ".py",
   "mimetype": "text/x-python",
   "name": "python",
   "nbconvert_exporter": "python",
   "pygments_lexer": "ipython3",
   "version": "3.11.7"
  }
 },
 "nbformat": 4,
 "nbformat_minor": 5
}
