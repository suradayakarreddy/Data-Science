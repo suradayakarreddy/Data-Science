{
 "cells": [
  {
   "cell_type": "code",
   "execution_count": 7,
   "id": "9afac73d-2871-4a1c-8685-2d1c174a7640",
   "metadata": {},
   "outputs": [],
   "source": [
    "import pickle \n",
    "import streamlit as st\n",
    "import pandas as pd\n",
    "import statsmodels.api as sm\n",
    "from arch import arch_model"
   ]
  },
  {
   "cell_type": "code",
   "execution_count": 8,
   "id": "ac87d6b3-da96-4caa-84d5-6733b0d3f479",
   "metadata": {},
   "outputs": [],
   "source": [
    "loaded = pickle.load(open(\"C:/Users/Dayakar Reddy Sura/Desktop/project430/garch_model.sav\",\"rb\"))"
   ]
  },
  {
   "cell_type": "code",
   "execution_count": 9,
   "id": "08a581b1-75dd-4cd5-ac96-eb9f64ef01dd",
   "metadata": {},
   "outputs": [
    {
     "data": {
      "text/plain": [
       "DeltaGenerator()"
      ]
     },
     "execution_count": 9,
     "metadata": {},
     "output_type": "execute_result"
    }
   ],
   "source": [
    "st.title('Stock Market Forecasting App')"
   ]
  },
  {
   "cell_type": "code",
   "execution_count": 12,
   "id": "e1982460-60ca-4307-826d-81471aa8f2f7",
   "metadata": {},
   "outputs": [],
   "source": [
    "st.write(\"Enter historical returns data:\")\n",
    "returns_input = st.text_area(\"Returns (comma-separated values)\", \"2345.0,45673,9874,34657,34567\")\n",
    "\n",
    "try:\n",
    "    returns_list = [float(x) for x in returns_input.split(',')]\n",
    "except ValueError:\n",
    "    st.error(\"Please enter valid numerical values separated by commas.\")\n",
    "    returns_list = []\n",
    "if st.button('Forecast'):\n",
    "    if not returns_list:\n",
    "        st.error(\"Please enter valid returns data.\")\n",
    "    else:\n",
    "        returns = pd.Series(returns_list)\n",
    "        model = arch_model(returns, vol='Garch', p=1, q=1)\n",
    "        garch_fit = model.fit()\n",
    "        forecast = garch_fit.forecast(start=returns.index[-1] if not returns.empty else None, horizon=30)\n",
    "        forecasted_variance = forecast.variance[-1:].values.flatten()\n",
    "        st.write(\"Forecasted Volatility Variance for the next 30 periods:\")\n",
    "        st.write(forecasted_variance)"
   ]
  },
  {
   "cell_type": "code",
   "execution_count": null,
   "id": "4a3677e1-9569-45e3-b43b-413b8b99a4c2",
   "metadata": {},
   "outputs": [],
   "source": []
  }
 ],
 "metadata": {
  "kernelspec": {
   "display_name": "Python 3 (ipykernel)",
   "language": "python",
   "name": "python3"
  },
  "language_info": {
   "codemirror_mode": {
    "name": "ipython",
    "version": 3
   },
   "file_extension": ".py",
   "mimetype": "text/x-python",
   "name": "python",
   "nbconvert_exporter": "python",
   "pygments_lexer": "ipython3",
   "version": "3.11.7"
  }
 },
 "nbformat": 4,
 "nbformat_minor": 5
}
