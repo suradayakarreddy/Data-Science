{
 "cells": [
  {
   "cell_type": "code",
   "execution_count": 1,
   "id": "beadb2d1-f014-4783-a442-c3f49a0df426",
   "metadata": {},
   "outputs": [
    {
     "name": "stdout",
     "output_type": "stream",
     "text": [
      "Requirement already satisfied: mlxtend in c:\\users\\dayakar reddy sura\\anaconda3\\lib\\site-packages (0.23.1)\n",
      "Requirement already satisfied: scipy>=1.2.1 in c:\\users\\dayakar reddy sura\\anaconda3\\lib\\site-packages (from mlxtend) (1.11.4)\n",
      "Requirement already satisfied: numpy>=1.16.2 in c:\\users\\dayakar reddy sura\\anaconda3\\lib\\site-packages (from mlxtend) (1.26.4)\n",
      "Requirement already satisfied: pandas>=0.24.2 in c:\\users\\dayakar reddy sura\\anaconda3\\lib\\site-packages (from mlxtend) (2.1.4)\n",
      "Requirement already satisfied: scikit-learn>=1.0.2 in c:\\users\\dayakar reddy sura\\anaconda3\\lib\\site-packages (from mlxtend) (1.2.2)\n",
      "Requirement already satisfied: matplotlib>=3.0.0 in c:\\users\\dayakar reddy sura\\anaconda3\\lib\\site-packages (from mlxtend) (3.8.0)\n",
      "Requirement already satisfied: joblib>=0.13.2 in c:\\users\\dayakar reddy sura\\anaconda3\\lib\\site-packages (from mlxtend) (1.2.0)\n",
      "Requirement already satisfied: contourpy>=1.0.1 in c:\\users\\dayakar reddy sura\\anaconda3\\lib\\site-packages (from matplotlib>=3.0.0->mlxtend) (1.2.0)\n",
      "Requirement already satisfied: cycler>=0.10 in c:\\users\\dayakar reddy sura\\anaconda3\\lib\\site-packages (from matplotlib>=3.0.0->mlxtend) (0.11.0)\n",
      "Requirement already satisfied: fonttools>=4.22.0 in c:\\users\\dayakar reddy sura\\anaconda3\\lib\\site-packages (from matplotlib>=3.0.0->mlxtend) (4.25.0)\n",
      "Requirement already satisfied: kiwisolver>=1.0.1 in c:\\users\\dayakar reddy sura\\anaconda3\\lib\\site-packages (from matplotlib>=3.0.0->mlxtend) (1.4.4)\n",
      "Requirement already satisfied: packaging>=20.0 in c:\\users\\dayakar reddy sura\\anaconda3\\lib\\site-packages (from matplotlib>=3.0.0->mlxtend) (23.1)\n",
      "Requirement already satisfied: pillow>=6.2.0 in c:\\users\\dayakar reddy sura\\anaconda3\\lib\\site-packages (from matplotlib>=3.0.0->mlxtend) (10.2.0)\n",
      "Requirement already satisfied: pyparsing>=2.3.1 in c:\\users\\dayakar reddy sura\\anaconda3\\lib\\site-packages (from matplotlib>=3.0.0->mlxtend) (3.0.9)\n",
      "Requirement already satisfied: python-dateutil>=2.7 in c:\\users\\dayakar reddy sura\\anaconda3\\lib\\site-packages (from matplotlib>=3.0.0->mlxtend) (2.8.2)\n",
      "Requirement already satisfied: pytz>=2020.1 in c:\\users\\dayakar reddy sura\\anaconda3\\lib\\site-packages (from pandas>=0.24.2->mlxtend) (2023.3.post1)\n",
      "Requirement already satisfied: tzdata>=2022.1 in c:\\users\\dayakar reddy sura\\anaconda3\\lib\\site-packages (from pandas>=0.24.2->mlxtend) (2023.3)\n",
      "Requirement already satisfied: threadpoolctl>=2.0.0 in c:\\users\\dayakar reddy sura\\anaconda3\\lib\\site-packages (from scikit-learn>=1.0.2->mlxtend) (2.2.0)\n",
      "Requirement already satisfied: six>=1.5 in c:\\users\\dayakar reddy sura\\anaconda3\\lib\\site-packages (from python-dateutil>=2.7->matplotlib>=3.0.0->mlxtend) (1.16.0)\n"
     ]
    }
   ],
   "source": [
    "!pip install mlxtend"
   ]
  },
  {
   "cell_type": "code",
   "execution_count": 2,
   "id": "d5e49672-1471-403d-a13f-d3627adbcc89",
   "metadata": {},
   "outputs": [],
   "source": [
    "import pandas as pd\n",
    "import numpy as np\n",
    "import matplotlib.pyplot as plt\n",
    "import seaborn as sns\n",
    "from mlxtend.frequent_patterns import apriori,association_rules\n",
    "from mlxtend.preprocessing import TransactionEncoder\n",
    "\n"
   ]
  },
  {
   "cell_type": "code",
   "execution_count": 3,
   "id": "50b3c689-89a2-470b-b570-52f12fe0222c",
   "metadata": {},
   "outputs": [
    {
     "data": {
      "text/html": [
       "<div>\n",
       "<style scoped>\n",
       "    .dataframe tbody tr th:only-of-type {\n",
       "        vertical-align: middle;\n",
       "    }\n",
       "\n",
       "    .dataframe tbody tr th {\n",
       "        vertical-align: top;\n",
       "    }\n",
       "\n",
       "    .dataframe thead th {\n",
       "        text-align: right;\n",
       "    }\n",
       "</style>\n",
       "<table border=\"1\" class=\"dataframe\">\n",
       "  <thead>\n",
       "    <tr style=\"text-align: right;\">\n",
       "      <th></th>\n",
       "      <th>shrimp,almonds,avocado,vegetables mix,green grapes,whole weat flour,yams,cottage cheese,energy drink,tomato juice,low fat yogurt,green tea,honey,salad,mineral water,salmon,antioxydant juice,frozen smoothie,spinach,olive oil</th>\n",
       "    </tr>\n",
       "  </thead>\n",
       "  <tbody>\n",
       "    <tr>\n",
       "      <th>0</th>\n",
       "      <td>burgers,meatballs,eggs</td>\n",
       "    </tr>\n",
       "    <tr>\n",
       "      <th>1</th>\n",
       "      <td>chutney</td>\n",
       "    </tr>\n",
       "    <tr>\n",
       "      <th>2</th>\n",
       "      <td>turkey,avocado</td>\n",
       "    </tr>\n",
       "    <tr>\n",
       "      <th>3</th>\n",
       "      <td>mineral water,milk,energy bar,whole wheat rice...</td>\n",
       "    </tr>\n",
       "    <tr>\n",
       "      <th>4</th>\n",
       "      <td>low fat yogurt</td>\n",
       "    </tr>\n",
       "  </tbody>\n",
       "</table>\n",
       "</div>"
      ],
      "text/plain": [
       "  shrimp,almonds,avocado,vegetables mix,green grapes,whole weat flour,yams,cottage cheese,energy drink,tomato juice,low fat yogurt,green tea,honey,salad,mineral water,salmon,antioxydant juice,frozen smoothie,spinach,olive oil\n",
       "0                             burgers,meatballs,eggs                                                                                                                                                                             \n",
       "1                                            chutney                                                                                                                                                                             \n",
       "2                                     turkey,avocado                                                                                                                                                                             \n",
       "3  mineral water,milk,energy bar,whole wheat rice...                                                                                                                                                                             \n",
       "4                                     low fat yogurt                                                                                                                                                                             "
      ]
     },
     "execution_count": 3,
     "metadata": {},
     "output_type": "execute_result"
    }
   ],
   "source": [
    "data=pd.read_excel(\"C:/Users/Dayakar Reddy Sura/Downloads/Online retail.xlsx\")\n",
    "data.head()"
   ]
  },
  {
   "cell_type": "code",
   "execution_count": 4,
   "id": "30fd272c-10e7-4bff-8c10-b631d69aea3e",
   "metadata": {},
   "outputs": [
    {
     "data": {
      "text/plain": [
       "(7500, 1)"
      ]
     },
     "execution_count": 4,
     "metadata": {},
     "output_type": "execute_result"
    }
   ],
   "source": [
    "data.shape"
   ]
  },
  {
   "cell_type": "code",
   "execution_count": 5,
   "id": "e121c06f-6e63-4cd1-8ea7-fe0bc574365e",
   "metadata": {},
   "outputs": [
    {
     "name": "stdout",
     "output_type": "stream",
     "text": [
      "<class 'pandas.core.frame.DataFrame'>\n",
      "RangeIndex: 7500 entries, 0 to 7499\n",
      "Data columns (total 1 columns):\n",
      " #   Column                                                                                                                                                                                                                           Non-Null Count  Dtype \n",
      "---  ------                                                                                                                                                                                                                           --------------  ----- \n",
      " 0   shrimp,almonds,avocado,vegetables mix,green grapes,whole weat flour,yams,cottage cheese,energy drink,tomato juice,low fat yogurt,green tea,honey,salad,mineral water,salmon,antioxydant juice,frozen smoothie,spinach,olive oil  7500 non-null   object\n",
      "dtypes: object(1)\n",
      "memory usage: 58.7+ KB\n"
     ]
    }
   ],
   "source": [
    "data.info()"
   ]
  },
  {
   "cell_type": "code",
   "execution_count": 6,
   "id": "f11b9585-4d63-496b-81e7-305f85258584",
   "metadata": {},
   "outputs": [
    {
     "data": {
      "text/plain": [
       "0       False\n",
       "1       False\n",
       "2       False\n",
       "3       False\n",
       "4       False\n",
       "        ...  \n",
       "7495    False\n",
       "7496    False\n",
       "7497     True\n",
       "7498     True\n",
       "7499    False\n",
       "Length: 7500, dtype: bool"
      ]
     },
     "execution_count": 6,
     "metadata": {},
     "output_type": "execute_result"
    }
   ],
   "source": [
    "data.duplicated()"
   ]
  },
  {
   "cell_type": "code",
   "execution_count": 7,
   "id": "1ef98a42-564a-4907-a667-98f2e32fa5d4",
   "metadata": {},
   "outputs": [
    {
     "data": {
      "text/html": [
       "<div>\n",
       "<style scoped>\n",
       "    .dataframe tbody tr th:only-of-type {\n",
       "        vertical-align: middle;\n",
       "    }\n",
       "\n",
       "    .dataframe tbody tr th {\n",
       "        vertical-align: top;\n",
       "    }\n",
       "\n",
       "    .dataframe thead th {\n",
       "        text-align: right;\n",
       "    }\n",
       "</style>\n",
       "<table border=\"1\" class=\"dataframe\">\n",
       "  <thead>\n",
       "    <tr style=\"text-align: right;\">\n",
       "      <th></th>\n",
       "      <th>shrimp,almonds,avocado,vegetables mix,green grapes,whole weat flour,yams,cottage cheese,energy drink,tomato juice,low fat yogurt,green tea,honey,salad,mineral water,salmon,antioxydant juice,frozen smoothie,spinach,olive oil</th>\n",
       "    </tr>\n",
       "  </thead>\n",
       "  <tbody>\n",
       "    <tr>\n",
       "      <th>1</th>\n",
       "      <td>chutney</td>\n",
       "    </tr>\n",
       "    <tr>\n",
       "      <th>2</th>\n",
       "      <td>turkey,avocado</td>\n",
       "    </tr>\n",
       "    <tr>\n",
       "      <th>4</th>\n",
       "      <td>low fat yogurt</td>\n",
       "    </tr>\n",
       "    <tr>\n",
       "      <th>5</th>\n",
       "      <td>whole wheat pasta,french fries</td>\n",
       "    </tr>\n",
       "    <tr>\n",
       "      <th>8</th>\n",
       "      <td>french fries</td>\n",
       "    </tr>\n",
       "    <tr>\n",
       "      <th>...</th>\n",
       "      <td>...</td>\n",
       "    </tr>\n",
       "    <tr>\n",
       "      <th>7490</th>\n",
       "      <td>herb &amp; pepper</td>\n",
       "    </tr>\n",
       "    <tr>\n",
       "      <th>7491</th>\n",
       "      <td>chocolate,escalope</td>\n",
       "    </tr>\n",
       "    <tr>\n",
       "      <th>7494</th>\n",
       "      <td>pancakes,light mayo</td>\n",
       "    </tr>\n",
       "    <tr>\n",
       "      <th>7497</th>\n",
       "      <td>chicken</td>\n",
       "    </tr>\n",
       "    <tr>\n",
       "      <th>7498</th>\n",
       "      <td>escalope,green tea</td>\n",
       "    </tr>\n",
       "  </tbody>\n",
       "</table>\n",
       "<p>2713 rows × 1 columns</p>\n",
       "</div>"
      ],
      "text/plain": [
       "     shrimp,almonds,avocado,vegetables mix,green grapes,whole weat flour,yams,cottage cheese,energy drink,tomato juice,low fat yogurt,green tea,honey,salad,mineral water,salmon,antioxydant juice,frozen smoothie,spinach,olive oil\n",
       "1                                               chutney                                                                                                                                                                             \n",
       "2                                        turkey,avocado                                                                                                                                                                             \n",
       "4                                        low fat yogurt                                                                                                                                                                             \n",
       "5                        whole wheat pasta,french fries                                                                                                                                                                             \n",
       "8                                          french fries                                                                                                                                                                             \n",
       "...                                                 ...                                                                                                                                                                             \n",
       "7490                                      herb & pepper                                                                                                                                                                             \n",
       "7491                                 chocolate,escalope                                                                                                                                                                             \n",
       "7494                                pancakes,light mayo                                                                                                                                                                             \n",
       "7497                                            chicken                                                                                                                                                                             \n",
       "7498                                 escalope,green tea                                                                                                                                                                             \n",
       "\n",
       "[2713 rows x 1 columns]"
      ]
     },
     "execution_count": 7,
     "metadata": {},
     "output_type": "execute_result"
    }
   ],
   "source": [
    "data[data.duplicated(keep=False)]"
   ]
  },
  {
   "cell_type": "code",
   "execution_count": 8,
   "id": "5b14649a-2cee-4f68-8f13-fde6859efb61",
   "metadata": {},
   "outputs": [],
   "source": [
    "#data_clean=data.drop_duplicates()"
   ]
  },
  {
   "cell_type": "code",
   "execution_count": 9,
   "id": "2087a1f8-2066-4a91-bef2-d787bf059113",
   "metadata": {},
   "outputs": [],
   "source": [
    "#data_clean[data_clean.duplicated(keep=False)]"
   ]
  },
  {
   "cell_type": "code",
   "execution_count": 10,
   "id": "504fe2ba-d47d-4809-9759-fd63a681b1d7",
   "metadata": {},
   "outputs": [
    {
     "data": {
      "text/plain": [
       "shrimp,almonds,avocado,vegetables mix,green grapes,whole weat flour,yams,cottage cheese,energy drink,tomato juice,low fat yogurt,green tea,honey,salad,mineral water,salmon,antioxydant juice,frozen smoothie,spinach,olive oil    0\n",
       "dtype: int64"
      ]
     },
     "execution_count": 10,
     "metadata": {},
     "output_type": "execute_result"
    }
   ],
   "source": [
    "data.isnull().sum()"
   ]
  },
  {
   "cell_type": "code",
   "execution_count": 11,
   "id": "8e74b788-b681-4f2b-b776-f897c6afce69",
   "metadata": {},
   "outputs": [
    {
     "data": {
      "text/html": [
       "<div>\n",
       "<style scoped>\n",
       "    .dataframe tbody tr th:only-of-type {\n",
       "        vertical-align: middle;\n",
       "    }\n",
       "\n",
       "    .dataframe tbody tr th {\n",
       "        vertical-align: top;\n",
       "    }\n",
       "\n",
       "    .dataframe thead th {\n",
       "        text-align: right;\n",
       "    }\n",
       "</style>\n",
       "<table border=\"1\" class=\"dataframe\">\n",
       "  <thead>\n",
       "    <tr style=\"text-align: right;\">\n",
       "      <th></th>\n",
       "      <th>things</th>\n",
       "    </tr>\n",
       "  </thead>\n",
       "  <tbody>\n",
       "    <tr>\n",
       "      <th>0</th>\n",
       "      <td>burgers,meatballs,eggs</td>\n",
       "    </tr>\n",
       "    <tr>\n",
       "      <th>1</th>\n",
       "      <td>chutney</td>\n",
       "    </tr>\n",
       "    <tr>\n",
       "      <th>2</th>\n",
       "      <td>turkey,avocado</td>\n",
       "    </tr>\n",
       "    <tr>\n",
       "      <th>3</th>\n",
       "      <td>mineral water,milk,energy bar,whole wheat rice...</td>\n",
       "    </tr>\n",
       "    <tr>\n",
       "      <th>4</th>\n",
       "      <td>low fat yogurt</td>\n",
       "    </tr>\n",
       "  </tbody>\n",
       "</table>\n",
       "</div>"
      ],
      "text/plain": [
       "                                              things\n",
       "0                             burgers,meatballs,eggs\n",
       "1                                            chutney\n",
       "2                                     turkey,avocado\n",
       "3  mineral water,milk,energy bar,whole wheat rice...\n",
       "4                                     low fat yogurt"
      ]
     },
     "execution_count": 11,
     "metadata": {},
     "output_type": "execute_result"
    }
   ],
   "source": [
    "data2=data.rename({'shrimp,almonds,avocado,vegetables mix,green grapes,whole weat flour,yams,cottage cheese,energy drink,tomato juice,low fat yogurt,green tea,honey,salad,mineral water,salmon,antioxydant juice,frozen smoothie,spinach,olive oil':'things'},axis=1)\n",
    "data2.head()\n"
   ]
  },
  {
   "cell_type": "code",
   "execution_count": 12,
   "id": "19552689-1e57-46c7-b6b1-b7f0000f2ae9",
   "metadata": {},
   "outputs": [
    {
     "data": {
      "text/html": [
       "<div>\n",
       "<style scoped>\n",
       "    .dataframe tbody tr th:only-of-type {\n",
       "        vertical-align: middle;\n",
       "    }\n",
       "\n",
       "    .dataframe tbody tr th {\n",
       "        vertical-align: top;\n",
       "    }\n",
       "\n",
       "    .dataframe thead th {\n",
       "        text-align: right;\n",
       "    }\n",
       "</style>\n",
       "<table border=\"1\" class=\"dataframe\">\n",
       "  <thead>\n",
       "    <tr style=\"text-align: right;\">\n",
       "      <th></th>\n",
       "      <th>things_almonds</th>\n",
       "      <th>things_almonds,cake,low fat yogurt</th>\n",
       "      <th>things_almonds,cookies</th>\n",
       "      <th>things_almonds,eggs</th>\n",
       "      <th>things_almonds,eggs,cookies</th>\n",
       "      <th>things_almonds,eggs,cooking oil,french fries,green tea</th>\n",
       "      <th>things_almonds,eggs,yogurt cake</th>\n",
       "      <th>things_almonds,french wine</th>\n",
       "      <th>things_almonds,french wine,green tea,french fries,escalope,strawberries,tomato juice,honey</th>\n",
       "      <th>things_almonds,pancakes,eggs,chocolate,french fries,mint</th>\n",
       "      <th>...</th>\n",
       "      <th>things_yams,mineral water,energy bar,eggs,fresh bread</th>\n",
       "      <th>things_yams,mineral water,french fries</th>\n",
       "      <th>things_yams,mineral water,soup,milk,pancakes,whole wheat rice,barbecue sauce,carrots,chocolate,champagne</th>\n",
       "      <th>things_yams,mint</th>\n",
       "      <th>things_yogurt cake</th>\n",
       "      <th>things_yogurt cake,candy bars</th>\n",
       "      <th>things_yogurt cake,energy drink</th>\n",
       "      <th>things_yogurt cake,honey</th>\n",
       "      <th>things_yogurt cake,low fat yogurt</th>\n",
       "      <th>things_yogurt cake,mint</th>\n",
       "    </tr>\n",
       "  </thead>\n",
       "  <tbody>\n",
       "    <tr>\n",
       "      <th>0</th>\n",
       "      <td>0</td>\n",
       "      <td>0</td>\n",
       "      <td>0</td>\n",
       "      <td>0</td>\n",
       "      <td>0</td>\n",
       "      <td>0</td>\n",
       "      <td>0</td>\n",
       "      <td>0</td>\n",
       "      <td>0</td>\n",
       "      <td>0</td>\n",
       "      <td>...</td>\n",
       "      <td>0</td>\n",
       "      <td>0</td>\n",
       "      <td>0</td>\n",
       "      <td>0</td>\n",
       "      <td>0</td>\n",
       "      <td>0</td>\n",
       "      <td>0</td>\n",
       "      <td>0</td>\n",
       "      <td>0</td>\n",
       "      <td>0</td>\n",
       "    </tr>\n",
       "    <tr>\n",
       "      <th>1</th>\n",
       "      <td>0</td>\n",
       "      <td>0</td>\n",
       "      <td>0</td>\n",
       "      <td>0</td>\n",
       "      <td>0</td>\n",
       "      <td>0</td>\n",
       "      <td>0</td>\n",
       "      <td>0</td>\n",
       "      <td>0</td>\n",
       "      <td>0</td>\n",
       "      <td>...</td>\n",
       "      <td>0</td>\n",
       "      <td>0</td>\n",
       "      <td>0</td>\n",
       "      <td>0</td>\n",
       "      <td>0</td>\n",
       "      <td>0</td>\n",
       "      <td>0</td>\n",
       "      <td>0</td>\n",
       "      <td>0</td>\n",
       "      <td>0</td>\n",
       "    </tr>\n",
       "    <tr>\n",
       "      <th>2</th>\n",
       "      <td>0</td>\n",
       "      <td>0</td>\n",
       "      <td>0</td>\n",
       "      <td>0</td>\n",
       "      <td>0</td>\n",
       "      <td>0</td>\n",
       "      <td>0</td>\n",
       "      <td>0</td>\n",
       "      <td>0</td>\n",
       "      <td>0</td>\n",
       "      <td>...</td>\n",
       "      <td>0</td>\n",
       "      <td>0</td>\n",
       "      <td>0</td>\n",
       "      <td>0</td>\n",
       "      <td>0</td>\n",
       "      <td>0</td>\n",
       "      <td>0</td>\n",
       "      <td>0</td>\n",
       "      <td>0</td>\n",
       "      <td>0</td>\n",
       "    </tr>\n",
       "    <tr>\n",
       "      <th>3</th>\n",
       "      <td>0</td>\n",
       "      <td>0</td>\n",
       "      <td>0</td>\n",
       "      <td>0</td>\n",
       "      <td>0</td>\n",
       "      <td>0</td>\n",
       "      <td>0</td>\n",
       "      <td>0</td>\n",
       "      <td>0</td>\n",
       "      <td>0</td>\n",
       "      <td>...</td>\n",
       "      <td>0</td>\n",
       "      <td>0</td>\n",
       "      <td>0</td>\n",
       "      <td>0</td>\n",
       "      <td>0</td>\n",
       "      <td>0</td>\n",
       "      <td>0</td>\n",
       "      <td>0</td>\n",
       "      <td>0</td>\n",
       "      <td>0</td>\n",
       "    </tr>\n",
       "    <tr>\n",
       "      <th>4</th>\n",
       "      <td>0</td>\n",
       "      <td>0</td>\n",
       "      <td>0</td>\n",
       "      <td>0</td>\n",
       "      <td>0</td>\n",
       "      <td>0</td>\n",
       "      <td>0</td>\n",
       "      <td>0</td>\n",
       "      <td>0</td>\n",
       "      <td>0</td>\n",
       "      <td>...</td>\n",
       "      <td>0</td>\n",
       "      <td>0</td>\n",
       "      <td>0</td>\n",
       "      <td>0</td>\n",
       "      <td>0</td>\n",
       "      <td>0</td>\n",
       "      <td>0</td>\n",
       "      <td>0</td>\n",
       "      <td>0</td>\n",
       "      <td>0</td>\n",
       "    </tr>\n",
       "  </tbody>\n",
       "</table>\n",
       "<p>5 rows × 5175 columns</p>\n",
       "</div>"
      ],
      "text/plain": [
       "   things_almonds  things_almonds,cake,low fat yogurt  things_almonds,cookies  \\\n",
       "0               0                                   0                       0   \n",
       "1               0                                   0                       0   \n",
       "2               0                                   0                       0   \n",
       "3               0                                   0                       0   \n",
       "4               0                                   0                       0   \n",
       "\n",
       "   things_almonds,eggs  things_almonds,eggs,cookies  \\\n",
       "0                    0                            0   \n",
       "1                    0                            0   \n",
       "2                    0                            0   \n",
       "3                    0                            0   \n",
       "4                    0                            0   \n",
       "\n",
       "   things_almonds,eggs,cooking oil,french fries,green tea  \\\n",
       "0                                                  0        \n",
       "1                                                  0        \n",
       "2                                                  0        \n",
       "3                                                  0        \n",
       "4                                                  0        \n",
       "\n",
       "   things_almonds,eggs,yogurt cake  things_almonds,french wine  \\\n",
       "0                                0                           0   \n",
       "1                                0                           0   \n",
       "2                                0                           0   \n",
       "3                                0                           0   \n",
       "4                                0                           0   \n",
       "\n",
       "   things_almonds,french wine,green tea,french fries,escalope,strawberries,tomato juice,honey  \\\n",
       "0                                                  0                                            \n",
       "1                                                  0                                            \n",
       "2                                                  0                                            \n",
       "3                                                  0                                            \n",
       "4                                                  0                                            \n",
       "\n",
       "   things_almonds,pancakes,eggs,chocolate,french fries,mint  ...  \\\n",
       "0                                                  0         ...   \n",
       "1                                                  0         ...   \n",
       "2                                                  0         ...   \n",
       "3                                                  0         ...   \n",
       "4                                                  0         ...   \n",
       "\n",
       "   things_yams,mineral water,energy bar,eggs,fresh bread  \\\n",
       "0                                                  0       \n",
       "1                                                  0       \n",
       "2                                                  0       \n",
       "3                                                  0       \n",
       "4                                                  0       \n",
       "\n",
       "   things_yams,mineral water,french fries  \\\n",
       "0                                       0   \n",
       "1                                       0   \n",
       "2                                       0   \n",
       "3                                       0   \n",
       "4                                       0   \n",
       "\n",
       "   things_yams,mineral water,soup,milk,pancakes,whole wheat rice,barbecue sauce,carrots,chocolate,champagne  \\\n",
       "0                                                  0                                                          \n",
       "1                                                  0                                                          \n",
       "2                                                  0                                                          \n",
       "3                                                  0                                                          \n",
       "4                                                  0                                                          \n",
       "\n",
       "   things_yams,mint  things_yogurt cake  things_yogurt cake,candy bars  \\\n",
       "0                 0                   0                              0   \n",
       "1                 0                   0                              0   \n",
       "2                 0                   0                              0   \n",
       "3                 0                   0                              0   \n",
       "4                 0                   0                              0   \n",
       "\n",
       "   things_yogurt cake,energy drink  things_yogurt cake,honey  \\\n",
       "0                                0                         0   \n",
       "1                                0                         0   \n",
       "2                                0                         0   \n",
       "3                                0                         0   \n",
       "4                                0                         0   \n",
       "\n",
       "   things_yogurt cake,low fat yogurt  things_yogurt cake,mint  \n",
       "0                                  0                        0  \n",
       "1                                  0                        0  \n",
       "2                                  0                        0  \n",
       "3                                  0                        0  \n",
       "4                                  0                        0  \n",
       "\n",
       "[5 rows x 5175 columns]"
      ]
     },
     "execution_count": 12,
     "metadata": {},
     "output_type": "execute_result"
    }
   ],
   "source": [
    "data3=pd.get_dummies(data2,dtype='int')\n",
    "data3.head()"
   ]
  },
  {
   "cell_type": "code",
   "execution_count": 13,
   "id": "6110ed41-776b-462f-9044-79ca19c45423",
   "metadata": {},
   "outputs": [
    {
     "data": {
      "text/plain": [
       "(7500, 5175)"
      ]
     },
     "execution_count": 13,
     "metadata": {},
     "output_type": "execute_result"
    }
   ],
   "source": [
    "data3.shape"
   ]
  },
  {
   "cell_type": "markdown",
   "id": "05c4206d-3136-4aa1-b97b-9ba0a3e66caa",
   "metadata": {},
   "source": [
    "### Apriori Algorithm"
   ]
  },
  {
   "cell_type": "code",
   "execution_count": null,
   "id": "6ae736af-a704-4884-a54f-00ef576eb2c4",
   "metadata": {},
   "outputs": [],
   "source": []
  },
  {
   "cell_type": "code",
   "execution_count": 14,
   "id": "b390cfd4-b1ba-454b-b663-c0d59bab807e",
   "metadata": {},
   "outputs": [
    {
     "name": "stderr",
     "output_type": "stream",
     "text": [
      "C:\\Users\\Dayakar Reddy Sura\\anaconda3\\Lib\\site-packages\\mlxtend\\frequent_patterns\\fpcommon.py:109: DeprecationWarning: DataFrames with non-bool types result in worse computationalperformance and their support might be discontinued in the future.Please use a DataFrame with bool type\n",
      "  warnings.warn(\n"
     ]
    },
    {
     "data": {
      "text/html": [
       "<div>\n",
       "<style scoped>\n",
       "    .dataframe tbody tr th:only-of-type {\n",
       "        vertical-align: middle;\n",
       "    }\n",
       "\n",
       "    .dataframe tbody tr th {\n",
       "        vertical-align: top;\n",
       "    }\n",
       "\n",
       "    .dataframe thead th {\n",
       "        text-align: right;\n",
       "    }\n",
       "</style>\n",
       "<table border=\"1\" class=\"dataframe\">\n",
       "  <thead>\n",
       "    <tr style=\"text-align: right;\">\n",
       "      <th></th>\n",
       "      <th>support</th>\n",
       "      <th>itemsets</th>\n",
       "    </tr>\n",
       "  </thead>\n",
       "  <tbody>\n",
       "    <tr>\n",
       "      <th>0</th>\n",
       "      <td>0.000267</td>\n",
       "      <td>(things_almonds)</td>\n",
       "    </tr>\n",
       "    <tr>\n",
       "      <th>1</th>\n",
       "      <td>0.000933</td>\n",
       "      <td>(things_antioxydant juice)</td>\n",
       "    </tr>\n",
       "    <tr>\n",
       "      <th>2</th>\n",
       "      <td>0.000267</td>\n",
       "      <td>(things_antioxydant juice,chocolate)</td>\n",
       "    </tr>\n",
       "    <tr>\n",
       "      <th>3</th>\n",
       "      <td>0.000267</td>\n",
       "      <td>(things_antioxydant juice,escalope)</td>\n",
       "    </tr>\n",
       "    <tr>\n",
       "      <th>4</th>\n",
       "      <td>0.000267</td>\n",
       "      <td>(things_asparagus)</td>\n",
       "    </tr>\n",
       "    <tr>\n",
       "      <th>...</th>\n",
       "      <td>...</td>\n",
       "      <td>...</td>\n",
       "    </tr>\n",
       "    <tr>\n",
       "      <th>383</th>\n",
       "      <td>0.000267</td>\n",
       "      <td>(things_whole wheat pasta,spaghetti,mineral wa...</td>\n",
       "    </tr>\n",
       "    <tr>\n",
       "      <th>384</th>\n",
       "      <td>0.002400</td>\n",
       "      <td>(things_whole wheat rice)</td>\n",
       "    </tr>\n",
       "    <tr>\n",
       "      <th>385</th>\n",
       "      <td>0.001067</td>\n",
       "      <td>(things_yams)</td>\n",
       "    </tr>\n",
       "    <tr>\n",
       "      <th>386</th>\n",
       "      <td>0.003333</td>\n",
       "      <td>(things_yogurt cake)</td>\n",
       "    </tr>\n",
       "    <tr>\n",
       "      <th>387</th>\n",
       "      <td>0.000267</td>\n",
       "      <td>(things_yogurt cake,candy bars)</td>\n",
       "    </tr>\n",
       "  </tbody>\n",
       "</table>\n",
       "<p>388 rows × 2 columns</p>\n",
       "</div>"
      ],
      "text/plain": [
       "      support                                           itemsets\n",
       "0    0.000267                                   (things_almonds)\n",
       "1    0.000933                         (things_antioxydant juice)\n",
       "2    0.000267               (things_antioxydant juice,chocolate)\n",
       "3    0.000267                (things_antioxydant juice,escalope)\n",
       "4    0.000267                                 (things_asparagus)\n",
       "..        ...                                                ...\n",
       "383  0.000267  (things_whole wheat pasta,spaghetti,mineral wa...\n",
       "384  0.002400                          (things_whole wheat rice)\n",
       "385  0.001067                                      (things_yams)\n",
       "386  0.003333                               (things_yogurt cake)\n",
       "387  0.000267                    (things_yogurt cake,candy bars)\n",
       "\n",
       "[388 rows x 2 columns]"
      ]
     },
     "execution_count": 14,
     "metadata": {},
     "output_type": "execute_result"
    }
   ],
   "source": [
    "frequent_items=apriori(data3,min_support=0.0002,use_colnames=True)\n",
    "frequent_items"
   ]
  },
  {
   "cell_type": "markdown",
   "id": "c8630a3b-ce50-477d-a36c-597d03d12028",
   "metadata": {},
   "source": [
    "##### Here tried lot of support values and finally fix this"
   ]
  },
  {
   "cell_type": "code",
   "execution_count": 15,
   "id": "8655cb91-0788-4f32-9274-444cb12f4b23",
   "metadata": {},
   "outputs": [
    {
     "data": {
      "text/html": [
       "<div>\n",
       "<style scoped>\n",
       "    .dataframe tbody tr th:only-of-type {\n",
       "        vertical-align: middle;\n",
       "    }\n",
       "\n",
       "    .dataframe tbody tr th {\n",
       "        vertical-align: top;\n",
       "    }\n",
       "\n",
       "    .dataframe thead th {\n",
       "        text-align: right;\n",
       "    }\n",
       "</style>\n",
       "<table border=\"1\" class=\"dataframe\">\n",
       "  <thead>\n",
       "    <tr style=\"text-align: right;\">\n",
       "      <th></th>\n",
       "      <th>antecedents</th>\n",
       "      <th>consequents</th>\n",
       "      <th>antecedent support</th>\n",
       "      <th>consequent support</th>\n",
       "      <th>support</th>\n",
       "      <th>confidence</th>\n",
       "      <th>lift</th>\n",
       "      <th>leverage</th>\n",
       "      <th>conviction</th>\n",
       "      <th>zhangs_metric</th>\n",
       "    </tr>\n",
       "  </thead>\n",
       "  <tbody>\n",
       "  </tbody>\n",
       "</table>\n",
       "</div>"
      ],
      "text/plain": [
       "Empty DataFrame\n",
       "Columns: [antecedents, consequents, antecedent support, consequent support, support, confidence, lift, leverage, conviction, zhangs_metric]\n",
       "Index: []"
      ]
     },
     "execution_count": 15,
     "metadata": {},
     "output_type": "execute_result"
    }
   ],
   "source": [
    "rules=association_rules(frequent_items,metric='confidence',min_threshold=0.001)\n",
    "rules\n",
    "rules.sort_values('lift')"
   ]
  },
  {
   "cell_type": "markdown",
   "id": "a002d346-fdb1-4e7b-9f6e-4c80a1ef8173",
   "metadata": {},
   "source": [
    "##### Here i think this data is not suitable for association rule "
   ]
  },
  {
   "cell_type": "markdown",
   "id": "992d9399-e7c2-41d8-84bd-9ae40e31de87",
   "metadata": {},
   "source": [
    "##### Antecedents: Items watched together (LHS - Left Hand Side).\n",
    "##### Consequents: Items often watched after (RHS - Right Hand Side).\n",
    "##### Support: Percentage of transactions that contain both antecedent and consequent.\n",
    "##### Confidence: Probability of seeing the consequent in a transaction given that the antecedent is present.\n",
    "##### Lift: Ratio of observed support to expected if antecedent and consequent were independent."
   ]
  },
  {
   "cell_type": "markdown",
   "id": "b6c82106-bbee-410a-9560-43ddac109946",
   "metadata": {},
   "source": [
    "### Interview Questions:"
   ]
  },
  {
   "cell_type": "markdown",
   "id": "9daf8e6d-9c85-4c8b-9dda-65d4cf8ab4bc",
   "metadata": {},
   "source": [
    "#### 1.\tWhat is lift and why is it important in Association rules?"
   ]
  },
  {
   "cell_type": "markdown",
   "id": "54f2ea59-2a3e-478e-9c53-cdff86d182fe",
   "metadata": {},
   "source": [
    "###### Lift measures how much more likely the consequent is given the antecedent compared to its usual likelihood. Higher lift values indicate stronger associations, which are more likely to be actionable and meaningful for business insights.\n",
    "\n",
    "###### Filtering Rules: Lift helps in filtering out uninteresting or spurious rules where the antecedent and consequent occur together just by chance. Rules with lift significantly greater than 1 are typically considered more interesting.\n",
    "\n",
    "###### Better Decision Making: Understanding lift helps in making better decisions related to cross-selling, promotions, and product placement strategies. Rules with high lift can guide marketing efforts towards products or items that are often bought together, enhancing customer satisfaction and revenue generation."
   ]
  },
  {
   "cell_type": "markdown",
   "id": "ed6fb4aa-6d94-4133-931c-b9cf1c92c3b4",
   "metadata": {},
   "source": [
    "###### While confidence indicates the likelihood of Y given X, lift provides additional context by comparing this likelihood to the baseline (independent occurrence). It thus provides a more nuanced understanding of the association's significance.\n",
    "\n",
    "###### lift is a critical metric in association rule mining that quantifies the strength and relevance of associations between items. It helps in identifying meaningful patterns from transactional data, guiding businesses in making informed decisions related to marketing, product bundling, and customer behavior analysis"
   ]
  },
  {
   "cell_type": "markdown",
   "id": "647ce524-9032-4c91-bfaa-b63cd28e51df",
   "metadata": {},
   "source": [
    "#### 2.\tWhat is support and Confidence. How do you calculate them?"
   ]
  },
  {
   "cell_type": "markdown",
   "id": "6e2d315c-28d8-4e5c-9c6d-cc3b59694965",
   "metadata": {},
   "source": [
    "###### Support measures how frequently an itemset appears in transactions.\n",
    "###### Confidence measures the reliability of the association rule between two itemsets."
   ]
  },
  {
   "cell_type": "markdown",
   "id": "f9f75697-733a-4670-9b4d-88c866738e96",
   "metadata": {},
   "source": [
    "###### Support:\n",
    "###### Support measures the frequency of occurrence of an itemset in a dataset. It indicates how often the itemset appears in all transactions.\n",
    "###### Calculation:\n",
    " \n",
    "Support\n",
    "(\n",
    "𝑋\n",
    ")\n",
    "=\n",
    "number of transactions containing \n",
    "𝑋\n",
    "total number of transactions\n",
    "Support(X)= \n",
    "total number of transactions\n",
    "number of transactions containing X\n",
    "​\n",
    " \n",
    "Importance:\n",
    "\n",
    "High support indicates that the itemset is frequently observed together in transactions, making it a candidate for association rule mining. However, high support alone does not necessarily indicate a strong association between items.\n",
    "Confidence:\n",
    "Definition:\n",
    "\n",
    "Confidence measures the conditional probability that a transaction containing the antecedent (X) also contains the consequent (Y). It indicates how often the rule has been found to be true.\n",
    "Calculation:\n",
    "\n",
    "Confidence\n",
    "(\n",
    "𝑋\n",
    "→\n",
    "𝑌\n",
    ")\n",
    "=\n",
    "Support\n",
    "(\n",
    "𝑋\n",
    "∪\n",
    "𝑌\n",
    ")\n",
    "Support\n",
    "(\n",
    "𝑋\n",
    ")\n",
    "Confidence(X→Y)= \n",
    "Support(X)\n",
    "Support(X∪Y)\n",
    "​\n",
    " \n",
    "Interpretation:\n",
    "\n",
    "Confidence quantifies the reliability of the association rule. A high confidence means that transactions containing X are likely to contain Y as well. It ranges from 0 to 1, where 1 indicates that the consequent always appears whenever the antecedent appears."
   ]
  },
  {
   "cell_type": "markdown",
   "id": "e9b6feb0-a5dc-4f13-b3c0-a2a4677ac725",
   "metadata": {},
   "source": [
    "#### 3.What are some limitations or challenges of Association rules mining"
   ]
  },
  {
   "cell_type": "markdown",
   "id": "5c087d60-1360-4a1e-b0e7-aa489fdcb4cc",
   "metadata": {},
   "source": [
    "->Association rule mining, while powerful for discovering interesting relationships in datasets\n",
    "As the number of distinct items (or features) in the dataset increases, the number of possible itemsets and rules grows exponentially. This can lead to a combinatorial explosion, making it computationally expensive and challenging to find meaningful associations.\n",
    "\n",
    "->In real-world datasets, transactions often contain only a small subset of all possible items. This sparsity can lead to infrequent itemsets with low support, making it difficult to find reliable associations.\n",
    "\n",
    "->When testing a large number of potential rules, there is an increased risk of finding spurious associations due to random chance. This requires careful adjustment of thresholds (such as support and confidence) to control for false discoveries.\n",
    "\n",
    "->Association rules are often sensitive to context and domain-specific knowledge. Without proper interpretation and understanding of the data and business context, discovered rules may be misleading or non-actionable.\n",
    "\n",
    "->While association rules provide insights into co-occurrence patterns, interpreting complex rules involving multiple items or conditions can be challenging. Tools for visualizing and summarizing rules are essential for effective interpretation."
   ]
  },
  {
   "cell_type": "code",
   "execution_count": null,
   "id": "b083b465-dcbc-467a-87de-3b326b47c00a",
   "metadata": {},
   "outputs": [],
   "source": []
  }
 ],
 "metadata": {
  "kernelspec": {
   "display_name": "Python 3 (ipykernel)",
   "language": "python",
   "name": "python3"
  },
  "language_info": {
   "codemirror_mode": {
    "name": "ipython",
    "version": 3
   },
   "file_extension": ".py",
   "mimetype": "text/x-python",
   "name": "python",
   "nbconvert_exporter": "python",
   "pygments_lexer": "ipython3",
   "version": "3.11.7"
  }
 },
 "nbformat": 4,
 "nbformat_minor": 5
}
